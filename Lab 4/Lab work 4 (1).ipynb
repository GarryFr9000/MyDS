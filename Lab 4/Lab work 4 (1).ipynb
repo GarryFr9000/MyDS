{
 "cells":[
  {
   "cell_type":"markdown",
   "source":[
    "___\n",
    "\n",
    "<a href='https:\/\/mainacademy.ua\/'> <img src='https:\/\/mainacademy.ua\/wp-content\/uploads\/2019\/03\/logo-main.png' alt = 'Хмм, щось з інтернетом'\/><\/a>\n",
    "___\n",
    "\n",
    "# Module 4: Work with data professionally!"
   ],
   "attachments":{
    
   },
   "metadata":{
    "datalore":{
     "type":"MD",
     "hide_input_from_viewers":false,
     "hide_output_from_viewers":false
    }
   }
  },
  {
   "cell_type":"markdown",
   "source":[
    "## Lab work 4\n"
   ],
   "attachments":{
    
   },
   "metadata":{
    "datalore":{
     "type":"MD",
     "hide_input_from_viewers":false,
     "hide_output_from_viewers":false
    }
   }
  },
  {
   "cell_type":"markdown",
   "source":[
    "#### Мета: \n",
    "\n",
    "* навчитися обробляти дані\n",
    "* \"парсити\" сайти"
   ],
   "attachments":{
    
   },
   "metadata":{
    "datalore":{
     "type":"MD",
     "hide_input_from_viewers":false,
     "hide_output_from_viewers":false
    }
   }
  },
  {
   "cell_type":"markdown",
   "source":[
    "### Завдання 1:"
   ],
   "attachments":{
    
   },
   "metadata":{
    "datalore":{
     "type":"MD",
     "hide_input_from_viewers":false,
     "hide_output_from_viewers":false
    }
   }
  },
  {
   "cell_type":"markdown",
   "source":[
    "#### Ознайомитися із API Національного банку \n",
    "https:\/\/old.bank.gov.ua\/control\/uk\/publish\/article?art_id=38441973&cat_id=38459171#exchange\n"
   ],
   "attachments":{
    
   },
   "metadata":{
    "datalore":{
     "type":"MD",
     "hide_input_from_viewers":false,
     "hide_output_from_viewers":false
    }
   }
  },
  {
   "cell_type":"markdown",
   "source":[
    "1. Підключитися до API."
   ],
   "attachments":{
    
   },
   "metadata":{
    "datalore":{
     "type":"MD",
     "hide_input_from_viewers":false,
     "hide_output_from_viewers":false
    }
   }
  },
  {
   "cell_type":"code",
   "source":[
    "import requests\n",
    "\n",
    "currReq = requests.get('https:\/\/bank.gov.ua\/NBUStatService\/v1\/statdirectory\/exchange')\n",
    "\n",
    "currReq.status_code"
   ],
   "execution_count":19,
   "outputs":[
    {
     "data":{
      "text\/plain":[
       "200"
      ]
     },
     "metadata":{
      
     },
     "output_type":"display_data"
    }
   ],
   "metadata":{
    "datalore":{
     "type":"CODE",
     "hide_input_from_viewers":false,
     "hide_output_from_viewers":false
    }
   }
  },
  {
   "cell_type":"markdown",
   "source":[
    "2. Отримати курс долара за останній рік."
   ],
   "attachments":{
    
   },
   "metadata":{
    "datalore":{
     "type":"MD",
     "hide_input_from_viewers":false,
     "hide_output_from_viewers":false
    }
   }
  },
  {
   "cell_type":"code",
   "source":[
    "from datetime import date, datetime, timedelta\n",
    "import requests\n",
    "\n",
    "\n",
    "dateBY = date(2022, 1, 1)\n",
    "date = datetime.now()\n",
    "curDate = date.date()\n",
    "delta = curDate - dateBY\n",
    "db = []\n",
    "\n",
    "# Названия парамтров из адресной строки\n",
    "for d in range(delta.days + 1):\n",
    "    params = {\n",
    "    \n",
    "       'json' : 'json',\n",
    "       'date' : date.strftime('%Y%m%d'),\n",
    "       'valcode' : 'USD'\n",
    "    \n",
    "    }\n",
    "\n",
    "    currReq = requests.get('https:\/\/bank.gov.ua\/NBUStatService\/v1\/statdirectory\/exchange', params = params)\n",
    "\n",
    "    result = currReq.json()\n",
    "    db.extend(result)\n",
    "    \n",
    "    date = date - timedelta(days=1)\n",
    "\n",
    "db\n",
    "\n",
    "#date = db[0]['exchangedate']\n",
    "#month = date.split('.')\n",
    "#int(month[1])"
   ],
   "execution_count":21,
   "outputs":[
    {
     "data":{
      "text\/plain":[
       "[{'r030': 840,\n",
       "  'txt': 'Долар США',\n",
       "  'rate': 29.2549,\n",
       "  'cc': 'USD',\n",
       "  'exchangedate': '13.06.2022'},\n",
       " {'r030': 840,\n",
       "  'txt': 'Долар США',\n",
       "  'rate': 29.2549,\n",
       "  'cc': 'USD',\n",
       "  'exchangedate': '12.06.2022'},\n",
       " {'r030': 840,\n",
       "  'txt': 'Долар США',\n",
       "  'rate': 29.2549,\n",
       "  'cc': 'USD',\n",
       "  'exchangedate': '11.06.2022'},\n",
       " {'r030': 840,\n",
       "  'txt': 'Долар США',\n",
       "  'rate': 29.2549,\n",
       "  'cc': 'USD',\n",
       "  'exchangedate': '10.06.2022'},\n",
       " {'r030': 840,\n",
       "  'txt': 'Долар США',\n",
       "  'rate': 29.2549,\n",
       "  'cc': 'USD',\n",
       "  'exchangedate': '09.06.2022'},\n",
       " {'r030': 840,\n",
       "  'txt': 'Долар США',\n",
       "  'rate': 29.2549,\n",
       "  'cc': 'USD',\n",
       "  'exchangedate': '08.06.2022'},\n",
       " {'r030': 840,\n",
       "  'txt': 'Долар США',\n",
       "  'rate': 29.2549,\n",
       "  'cc': 'USD',\n",
       "  'exchangedate': '07.06.2022'},\n",
       " {'r030': 840,\n",
       "  'txt': 'Долар США',\n",
       "  'rate': 29.2549,\n",
       "  'cc': 'USD',\n",
       "  'exchangedate': '06.06.2022'},\n",
       " {'r030': 840,\n",
       "  'txt': 'Долар США',\n",
       "  'rate': 29.2549,\n",
       "  'cc': 'USD',\n",
       "  'exchangedate': '05.06.2022'},\n",
       " {'r030': 840,\n",
       "  'txt': 'Долар США',\n",
       "  'rate': 29.2549,\n",
       "  'cc': 'USD',\n",
       "  'exchangedate': '04.06.2022'},\n",
       " {'r030': 840,\n",
       "  'txt': 'Долар США',\n",
       "  'rate': 29.2549,\n",
       "  'cc': 'USD',\n",
       "  'exchangedate': '03.06.2022'},\n",
       " {'r030': 840,\n",
       "  'txt': 'Долар США',\n",
       "  'rate': 29.2549,\n",
       "  'cc': 'USD',\n",
       "  'exchangedate': '02.06.2022'},\n",
       " {'r030': 840,\n",
       "  'txt': 'Долар США',\n",
       "  'rate': 29.2549,\n",
       "  'cc': 'USD',\n",
       "  'exchangedate': '01.06.2022'},\n",
       " {'r030': 840,\n",
       "  'txt': 'Долар США',\n",
       "  'rate': 29.2549,\n",
       "  'cc': 'USD',\n",
       "  'exchangedate': '31.05.2022'},\n",
       " {'r030': 840,\n",
       "  'txt': 'Долар США',\n",
       "  'rate': 29.2549,\n",
       "  'cc': 'USD',\n",
       "  'exchangedate': '30.05.2022'},\n",
       " {'r030': 840,\n",
       "  'txt': 'Долар США',\n",
       "  'rate': 29.2549,\n",
       "  'cc': 'USD',\n",
       "  'exchangedate': '29.05.2022'},\n",
       " {'r030': 840,\n",
       "  'txt': 'Долар США',\n",
       "  'rate': 29.2549,\n",
       "  'cc': 'USD',\n",
       "  'exchangedate': '28.05.2022'},\n",
       " {'r030': 840,\n",
       "  'txt': 'Долар США',\n",
       "  'rate': 29.2549,\n",
       "  'cc': 'USD',\n",
       "  'exchangedate': '27.05.2022'},\n",
       " {'r030': 840,\n",
       "  'txt': 'Долар США',\n",
       "  'rate': 29.2549,\n",
       "  'cc': 'USD',\n",
       "  'exchangedate': '26.05.2022'},\n",
       " {'r030': 840,\n",
       "  'txt': 'Долар США',\n",
       "  'rate': 29.2549,\n",
       "  'cc': 'USD',\n",
       "  'exchangedate': '25.05.2022'},\n",
       " {'r030': 840,\n",
       "  'txt': 'Долар США',\n",
       "  'rate': 29.2549,\n",
       "  'cc': 'USD',\n",
       "  'exchangedate': '24.05.2022'},\n",
       " {'r030': 840,\n",
       "  'txt': 'Долар США',\n",
       "  'rate': 29.2549,\n",
       "  'cc': 'USD',\n",
       "  'exchangedate': '23.05.2022'},\n",
       " {'r030': 840,\n",
       "  'txt': 'Долар США',\n",
       "  'rate': 29.2549,\n",
       "  'cc': 'USD',\n",
       "  'exchangedate': '22.05.2022'},\n",
       " {'r030': 840,\n",
       "  'txt': 'Долар США',\n",
       "  'rate': 29.2549,\n",
       "  'cc': 'USD',\n",
       "  'exchangedate': '21.05.2022'},\n",
       " {'r030': 840,\n",
       "  'txt': 'Долар США',\n",
       "  'rate': 29.2549,\n",
       "  'cc': 'USD',\n",
       "  'exchangedate': '20.05.2022'},\n",
       " {'r030': 840,\n",
       "  'txt': 'Долар США',\n",
       "  'rate': 29.2549,\n",
       "  'cc': 'USD',\n",
       "  'exchangedate': '19.05.2022'},\n",
       " {'r030': 840,\n",
       "  'txt': 'Долар США',\n",
       "  'rate': 29.2549,\n",
       "  'cc': 'USD',\n",
       "  'exchangedate': '18.05.2022'},\n",
       " {'r030': 840,\n",
       "  'txt': 'Долар США',\n",
       "  'rate': 29.2549,\n",
       "  'cc': 'USD',\n",
       "  'exchangedate': '17.05.2022'},\n",
       " {'r030': 840,\n",
       "  'txt': 'Долар США',\n",
       "  'rate': 29.2549,\n",
       "  'cc': 'USD',\n",
       "  'exchangedate': '16.05.2022'},\n",
       " {'r030': 840,\n",
       "  'txt': 'Долар США',\n",
       "  'rate': 29.2549,\n",
       "  'cc': 'USD',\n",
       "  'exchangedate': '15.05.2022'},\n",
       " {'r030': 840,\n",
       "  'txt': 'Долар США',\n",
       "  'rate': 29.2549,\n",
       "  'cc': 'USD',\n",
       "  'exchangedate': '14.05.2022'},\n",
       " {'r030': 840,\n",
       "  'txt': 'Долар США',\n",
       "  'rate': 29.2549,\n",
       "  'cc': 'USD',\n",
       "  'exchangedate': '13.05.2022'},\n",
       " {'r030': 840,\n",
       "  'txt': 'Долар США',\n",
       "  'rate': 29.2549,\n",
       "  'cc': 'USD',\n",
       "  'exchangedate': '12.05.2022'},\n",
       " {'r030': 840,\n",
       "  'txt': 'Долар США',\n",
       "  'rate': 29.2549,\n",
       "  'cc': 'USD',\n",
       "  'exchangedate': '11.05.2022'},\n",
       " {'r030': 840,\n",
       "  'txt': 'Долар США',\n",
       "  'rate': 29.2549,\n",
       "  'cc': 'USD',\n",
       "  'exchangedate': '10.05.2022'},\n",
       " {'r030': 840,\n",
       "  'txt': 'Долар США',\n",
       "  'rate': 29.2549,\n",
       "  'cc': 'USD',\n",
       "  'exchangedate': '09.05.2022'},\n",
       " {'r030': 840,\n",
       "  'txt': 'Долар США',\n",
       "  'rate': 29.2549,\n",
       "  'cc': 'USD',\n",
       "  'exchangedate': '08.05.2022'},\n",
       " {'r030': 840,\n",
       "  'txt': 'Долар США',\n",
       "  'rate': 29.2549,\n",
       "  'cc': 'USD',\n",
       "  'exchangedate': '07.05.2022'},\n",
       " {'r030': 840,\n",
       "  'txt': 'Долар США',\n",
       "  'rate': 29.2549,\n",
       "  'cc': 'USD',\n",
       "  'exchangedate': '06.05.2022'},\n",
       " {'r030': 840,\n",
       "  'txt': 'Долар США',\n",
       "  'rate': 29.2549,\n",
       "  'cc': 'USD',\n",
       "  'exchangedate': '05.05.2022'},\n",
       " {'r030': 840,\n",
       "  'txt': 'Долар США',\n",
       "  'rate': 29.2549,\n",
       "  'cc': 'USD',\n",
       "  'exchangedate': '04.05.2022'},\n",
       " {'r030': 840,\n",
       "  'txt': 'Долар США',\n",
       "  'rate': 29.2549,\n",
       "  'cc': 'USD',\n",
       "  'exchangedate': '03.05.2022'},\n",
       " {'r030': 840,\n",
       "  'txt': 'Долар США',\n",
       "  'rate': 29.2549,\n",
       "  'cc': 'USD',\n",
       "  'exchangedate': '02.05.2022'},\n",
       " {'r030': 840,\n",
       "  'txt': 'Долар США',\n",
       "  'rate': 29.2549,\n",
       "  'cc': 'USD',\n",
       "  'exchangedate': '01.05.2022'},\n",
       " {'r030': 840,\n",
       "  'txt': 'Долар США',\n",
       "  'rate': 29.2549,\n",
       "  'cc': 'USD',\n",
       "  'exchangedate': '30.04.2022'},\n",
       " {'r030': 840,\n",
       "  'txt': 'Долар США',\n",
       "  'rate': 29.2549,\n",
       "  'cc': 'USD',\n",
       "  'exchangedate': '29.04.2022'},\n",
       " {'r030': 840,\n",
       "  'txt': 'Долар США',\n",
       "  'rate': 29.2549,\n",
       "  'cc': 'USD',\n",
       "  'exchangedate': '28.04.2022'},\n",
       " {'r030': 840,\n",
       "  'txt': 'Долар США',\n",
       "  'rate': 29.2549,\n",
       "  'cc': 'USD',\n",
       "  'exchangedate': '27.04.2022'},\n",
       " {'r030': 840,\n",
       "  'txt': 'Долар США',\n",
       "  'rate': 29.2549,\n",
       "  'cc': 'USD',\n",
       "  'exchangedate': '26.04.2022'},\n",
       " {'r030': 840,\n",
       "  'txt': 'Долар США',\n",
       "  'rate': 29.2549,\n",
       "  'cc': 'USD',\n",
       "  'exchangedate': '25.04.2022'},\n",
       " {'r030': 840,\n",
       "  'txt': 'Долар США',\n",
       "  'rate': 29.2549,\n",
       "  'cc': 'USD',\n",
       "  'exchangedate': '24.04.2022'},\n",
       " {'r030': 840,\n",
       "  'txt': 'Долар США',\n",
       "  'rate': 29.2549,\n",
       "  'cc': 'USD',\n",
       "  'exchangedate': '23.04.2022'},\n",
       " {'r030': 840,\n",
       "  'txt': 'Долар США',\n",
       "  'rate': 29.2549,\n",
       "  'cc': 'USD',\n",
       "  'exchangedate': '22.04.2022'},\n",
       " {'r030': 840,\n",
       "  'txt': 'Долар США',\n",
       "  'rate': 29.2549,\n",
       "  'cc': 'USD',\n",
       "  'exchangedate': '21.04.2022'},\n",
       " {'r030': 840,\n",
       "  'txt': 'Долар США',\n",
       "  'rate': 29.2549,\n",
       "  'cc': 'USD',\n",
       "  'exchangedate': '20.04.2022'},\n",
       " {'r030': 840,\n",
       "  'txt': 'Долар США',\n",
       "  'rate': 29.2549,\n",
       "  'cc': 'USD',\n",
       "  'exchangedate': '19.04.2022'},\n",
       " {'r030': 840,\n",
       "  'txt': 'Долар США',\n",
       "  'rate': 29.2549,\n",
       "  'cc': 'USD',\n",
       "  'exchangedate': '18.04.2022'},\n",
       " {'r030': 840,\n",
       "  'txt': 'Долар США',\n",
       "  'rate': 29.2549,\n",
       "  'cc': 'USD',\n",
       "  'exchangedate': '17.04.2022'},\n",
       " {'r030': 840,\n",
       "  'txt': 'Долар США',\n",
       "  'rate': 29.2549,\n",
       "  'cc': 'USD',\n",
       "  'exchangedate': '16.04.2022'},\n",
       " {'r030': 840,\n",
       "  'txt': 'Долар США',\n",
       "  'rate': 29.2549,\n",
       "  'cc': 'USD',\n",
       "  'exchangedate': '15.04.2022'},\n",
       " {'r030': 840,\n",
       "  'txt': 'Долар США',\n",
       "  'rate': 29.2549,\n",
       "  'cc': 'USD',\n",
       "  'exchangedate': '14.04.2022'},\n",
       " {'r030': 840,\n",
       "  'txt': 'Долар США',\n",
       "  'rate': 29.2549,\n",
       "  'cc': 'USD',\n",
       "  'exchangedate': '13.04.2022'},\n",
       " {'r030': 840,\n",
       "  'txt': 'Долар США',\n",
       "  'rate': 29.2549,\n",
       "  'cc': 'USD',\n",
       "  'exchangedate': '12.04.2022'},\n",
       " {'r030': 840,\n",
       "  'txt': 'Долар США',\n",
       "  'rate': 29.2549,\n",
       "  'cc': 'USD',\n",
       "  'exchangedate': '11.04.2022'},\n",
       " {'r030': 840,\n",
       "  'txt': 'Долар США',\n",
       "  'rate': 29.2549,\n",
       "  'cc': 'USD',\n",
       "  'exchangedate': '10.04.2022'},\n",
       " {'r030': 840,\n",
       "  'txt': 'Долар США',\n",
       "  'rate': 29.2549,\n",
       "  'cc': 'USD',\n",
       "  'exchangedate': '09.04.2022'},\n",
       " {'r030': 840,\n",
       "  'txt': 'Долар США',\n",
       "  'rate': 29.2549,\n",
       "  'cc': 'USD',\n",
       "  'exchangedate': '08.04.2022'},\n",
       " {'r030': 840,\n",
       "  'txt': 'Долар США',\n",
       "  'rate': 29.2549,\n",
       "  'cc': 'USD',\n",
       "  'exchangedate': '07.04.2022'},\n",
       " {'r030': 840,\n",
       "  'txt': 'Долар США',\n",
       "  'rate': 29.2549,\n",
       "  'cc': 'USD',\n",
       "  'exchangedate': '06.04.2022'},\n",
       " {'r030': 840,\n",
       "  'txt': 'Долар США',\n",
       "  'rate': 29.2549,\n",
       "  'cc': 'USD',\n",
       "  'exchangedate': '05.04.2022'},\n",
       " {'r030': 840,\n",
       "  'txt': 'Долар США',\n",
       "  'rate': 29.2549,\n",
       "  'cc': 'USD',\n",
       "  'exchangedate': '04.04.2022'},\n",
       " {'r030': 840,\n",
       "  'txt': 'Долар США',\n",
       "  'rate': 29.2549,\n",
       "  'cc': 'USD',\n",
       "  'exchangedate': '03.04.2022'},\n",
       " {'r030': 840,\n",
       "  'txt': 'Долар США',\n",
       "  'rate': 29.2549,\n",
       "  'cc': 'USD',\n",
       "  'exchangedate': '02.04.2022'},\n",
       " {'r030': 840,\n",
       "  'txt': 'Долар США',\n",
       "  'rate': 29.2549,\n",
       "  'cc': 'USD',\n",
       "  'exchangedate': '01.04.2022'},\n",
       " {'r030': 840,\n",
       "  'txt': 'Долар США',\n",
       "  'rate': 29.2549,\n",
       "  'cc': 'USD',\n",
       "  'exchangedate': '31.03.2022'},\n",
       " {'r030': 840,\n",
       "  'txt': 'Долар США',\n",
       "  'rate': 29.2549,\n",
       "  'cc': 'USD',\n",
       "  'exchangedate': '30.03.2022'},\n",
       " {'r030': 840,\n",
       "  'txt': 'Долар США',\n",
       "  'rate': 29.2549,\n",
       "  'cc': 'USD',\n",
       "  'exchangedate': '29.03.2022'},\n",
       " {'r030': 840,\n",
       "  'txt': 'Долар США',\n",
       "  'rate': 29.2549,\n",
       "  'cc': 'USD',\n",
       "  'exchangedate': '28.03.2022'},\n",
       " {'r030': 840,\n",
       "  'txt': 'Долар США',\n",
       "  'rate': 29.2549,\n",
       "  'cc': 'USD',\n",
       "  'exchangedate': '27.03.2022'},\n",
       " {'r030': 840,\n",
       "  'txt': 'Долар США',\n",
       "  'rate': 29.2549,\n",
       "  'cc': 'USD',\n",
       "  'exchangedate': '26.03.2022'},\n",
       " {'r030': 840,\n",
       "  'txt': 'Долар США',\n",
       "  'rate': 29.2549,\n",
       "  'cc': 'USD',\n",
       "  'exchangedate': '25.03.2022'},\n",
       " {'r030': 840,\n",
       "  'txt': 'Долар США',\n",
       "  'rate': 29.2549,\n",
       "  'cc': 'USD',\n",
       "  'exchangedate': '24.03.2022'},\n",
       " {'r030': 840,\n",
       "  'txt': 'Долар США',\n",
       "  'rate': 29.2549,\n",
       "  'cc': 'USD',\n",
       "  'exchangedate': '23.03.2022'},\n",
       " {'r030': 840,\n",
       "  'txt': 'Долар США',\n",
       "  'rate': 29.2549,\n",
       "  'cc': 'USD',\n",
       "  'exchangedate': '22.03.2022'},\n",
       " {'r030': 840,\n",
       "  'txt': 'Долар США',\n",
       "  'rate': 29.2549,\n",
       "  'cc': 'USD',\n",
       "  'exchangedate': '21.03.2022'},\n",
       " {'r030': 840,\n",
       "  'txt': 'Долар США',\n",
       "  'rate': 29.2549,\n",
       "  'cc': 'USD',\n",
       "  'exchangedate': '20.03.2022'},\n",
       " {'r030': 840,\n",
       "  'txt': 'Долар США',\n",
       "  'rate': 29.2549,\n",
       "  'cc': 'USD',\n",
       "  'exchangedate': '19.03.2022'},\n",
       " {'r030': 840,\n",
       "  'txt': 'Долар США',\n",
       "  'rate': 29.2549,\n",
       "  'cc': 'USD',\n",
       "  'exchangedate': '18.03.2022'},\n",
       " {'r030': 840,\n",
       "  'txt': 'Долар США',\n",
       "  'rate': 29.2549,\n",
       "  'cc': 'USD',\n",
       "  'exchangedate': '17.03.2022'},\n",
       " {'r030': 840,\n",
       "  'txt': 'Долар США',\n",
       "  'rate': 29.2549,\n",
       "  'cc': 'USD',\n",
       "  'exchangedate': '16.03.2022'},\n",
       " {'r030': 840,\n",
       "  'txt': 'Долар США',\n",
       "  'rate': 29.2549,\n",
       "  'cc': 'USD',\n",
       "  'exchangedate': '15.03.2022'},\n",
       " {'r030': 840,\n",
       "  'txt': 'Долар США',\n",
       "  'rate': 29.2549,\n",
       "  'cc': 'USD',\n",
       "  'exchangedate': '14.03.2022'},\n",
       " {'r030': 840,\n",
       "  'txt': 'Долар США',\n",
       "  'rate': 29.2549,\n",
       "  'cc': 'USD',\n",
       "  'exchangedate': '13.03.2022'},\n",
       " {'r030': 840,\n",
       "  'txt': 'Долар США',\n",
       "  'rate': 29.2549,\n",
       "  'cc': 'USD',\n",
       "  'exchangedate': '12.03.2022'},\n",
       " {'r030': 840,\n",
       "  'txt': 'Долар США',\n",
       "  'rate': 29.2549,\n",
       "  'cc': 'USD',\n",
       "  'exchangedate': '11.03.2022'},\n",
       " {'r030': 840,\n",
       "  'txt': 'Долар США',\n",
       "  'rate': 29.2549,\n",
       "  'cc': 'USD',\n",
       "  'exchangedate': '10.03.2022'},\n",
       " {'r030': 840,\n",
       "  'txt': 'Долар США',\n",
       "  'rate': 29.2549,\n",
       "  'cc': 'USD',\n",
       "  'exchangedate': '09.03.2022'},\n",
       " {'r030': 840,\n",
       "  'txt': 'Долар США',\n",
       "  'rate': 29.2549,\n",
       "  'cc': 'USD',\n",
       "  'exchangedate': '08.03.2022'},\n",
       " {'r030': 840,\n",
       "  'txt': 'Долар США',\n",
       "  'rate': 29.2549,\n",
       "  'cc': 'USD',\n",
       "  'exchangedate': '07.03.2022'},\n",
       " {'r030': 840,\n",
       "  'txt': 'Долар США',\n",
       "  'rate': 29.2549,\n",
       "  'cc': 'USD',\n",
       "  'exchangedate': '06.03.2022'},\n",
       " {'r030': 840,\n",
       "  'txt': 'Долар США',\n",
       "  'rate': 29.2549,\n",
       "  'cc': 'USD',\n",
       "  'exchangedate': '05.03.2022'},\n",
       " {'r030': 840,\n",
       "  'txt': 'Долар США',\n",
       "  'rate': 29.2549,\n",
       "  'cc': 'USD',\n",
       "  'exchangedate': '04.03.2022'},\n",
       " {'r030': 840,\n",
       "  'txt': 'Долар США',\n",
       "  'rate': 29.2549,\n",
       "  'cc': 'USD',\n",
       "  'exchangedate': '03.03.2022'},\n",
       " {'r030': 840,\n",
       "  'txt': 'Долар США',\n",
       "  'rate': 29.2549,\n",
       "  'cc': 'USD',\n",
       "  'exchangedate': '02.03.2022'},\n",
       " {'r030': 840,\n",
       "  'txt': 'Долар США',\n",
       "  'rate': 29.2549,\n",
       "  'cc': 'USD',\n",
       "  'exchangedate': '01.03.2022'},\n",
       " {'r030': 840,\n",
       "  'txt': 'Долар США',\n",
       "  'rate': 29.2549,\n",
       "  'cc': 'USD',\n",
       "  'exchangedate': '28.02.2022'},\n",
       " {'r030': 840,\n",
       "  'txt': 'Долар США',\n",
       "  'rate': 29.2549,\n",
       "  'cc': 'USD',\n",
       "  'exchangedate': '27.02.2022'},\n",
       " {'r030': 840,\n",
       "  'txt': 'Долар США',\n",
       "  'rate': 29.2549,\n",
       "  'cc': 'USD',\n",
       "  'exchangedate': '26.02.2022'},\n",
       " {'r030': 840,\n",
       "  'txt': 'Долар США',\n",
       "  'rate': 29.2549,\n",
       "  'cc': 'USD',\n",
       "  'exchangedate': '25.02.2022'},\n",
       " {'r030': 840,\n",
       "  'txt': 'Долар США',\n",
       "  'rate': 29.2549,\n",
       "  'cc': 'USD',\n",
       "  'exchangedate': '24.02.2022'},\n",
       " {'r030': 840,\n",
       "  'txt': 'Долар США',\n",
       "  'rate': 28.9877,\n",
       "  'cc': 'USD',\n",
       "  'exchangedate': '23.02.2022'},\n",
       " {'r030': 840,\n",
       "  'txt': 'Долар США',\n",
       "  'rate': 28.4846,\n",
       "  'cc': 'USD',\n",
       "  'exchangedate': '22.02.2022'},\n",
       " {'r030': 840,\n",
       "  'txt': 'Долар США',\n",
       "  'rate': 28.3428,\n",
       "  'cc': 'USD',\n",
       "  'exchangedate': '21.02.2022'},\n",
       " {'r030': 840,\n",
       "  'txt': 'Долар США',\n",
       "  'rate': 28.3,\n",
       "  'cc': 'USD',\n",
       "  'exchangedate': '20.02.2022'},\n",
       " {'r030': 840,\n",
       "  'txt': 'Долар США',\n",
       "  'rate': 28.3,\n",
       "  'cc': 'USD',\n",
       "  'exchangedate': '19.02.2022'},\n",
       " {'r030': 840,\n",
       "  'txt': 'Долар США',\n",
       "  'rate': 28.3,\n",
       "  'cc': 'USD',\n",
       "  'exchangedate': '18.02.2022'},\n",
       " {'r030': 840,\n",
       "  'txt': 'Долар США',\n",
       "  'rate': 28.0943,\n",
       "  'cc': 'USD',\n",
       "  'exchangedate': '17.02.2022'},\n",
       " {'r030': 840,\n",
       "  'txt': 'Долар США',\n",
       "  'rate': 28.2424,\n",
       "  'cc': 'USD',\n",
       "  'exchangedate': '16.02.2022'},\n",
       " {'r030': 840,\n",
       "  'txt': 'Долар США',\n",
       "  'rate': 28.5355,\n",
       "  'cc': 'USD',\n",
       "  'exchangedate': '15.02.2022'},\n",
       " {'r030': 840,\n",
       "  'txt': 'Долар США',\n",
       "  'rate': 28.0346,\n",
       "  'cc': 'USD',\n",
       "  'exchangedate': '14.02.2022'},\n",
       " {'r030': 840,\n",
       "  'txt': 'Долар США',\n",
       "  'rate': 27.8756,\n",
       "  'cc': 'USD',\n",
       "  'exchangedate': '13.02.2022'},\n",
       " {'r030': 840,\n",
       "  'txt': 'Долар США',\n",
       "  'rate': 27.8756,\n",
       "  'cc': 'USD',\n",
       "  'exchangedate': '12.02.2022'},\n",
       " {'r030': 840,\n",
       "  'txt': 'Долар США',\n",
       "  'rate': 27.8756,\n",
       "  'cc': 'USD',\n",
       "  'exchangedate': '11.02.2022'},\n",
       " {'r030': 840,\n",
       "  'txt': 'Долар США',\n",
       "  'rate': 27.9795,\n",
       "  'cc': 'USD',\n",
       "  'exchangedate': '10.02.2022'},\n",
       " {'r030': 840,\n",
       "  'txt': 'Долар США',\n",
       "  'rate': 27.9619,\n",
       "  'cc': 'USD',\n",
       "  'exchangedate': '09.02.2022'},\n",
       " {'r030': 840,\n",
       "  'txt': 'Долар США',\n",
       "  'rate': 27.9998,\n",
       "  'cc': 'USD',\n",
       "  'exchangedate': '08.02.2022'},\n",
       " {'r030': 840,\n",
       "  'txt': 'Долар США',\n",
       "  'rate': 28.1468,\n",
       "  'cc': 'USD',\n",
       "  'exchangedate': '07.02.2022'},\n",
       " {'r030': 840,\n",
       "  'txt': 'Долар США',\n",
       "  'rate': 28.2701,\n",
       "  'cc': 'USD',\n",
       "  'exchangedate': '06.02.2022'},\n",
       " {'r030': 840,\n",
       "  'txt': 'Долар США',\n",
       "  'rate': 28.2701,\n",
       "  'cc': 'USD',\n",
       "  'exchangedate': '05.02.2022'},\n",
       " {'r030': 840,\n",
       "  'txt': 'Долар США',\n",
       "  'rate': 28.2701,\n",
       "  'cc': 'USD',\n",
       "  'exchangedate': '04.02.2022'},\n",
       " {'r030': 840,\n",
       "  'txt': 'Долар США',\n",
       "  'rate': 28.3876,\n",
       "  'cc': 'USD',\n",
       "  'exchangedate': '03.02.2022'},\n",
       " {'r030': 840,\n",
       "  'txt': 'Долар США',\n",
       "  'rate': 28.318,\n",
       "  'cc': 'USD',\n",
       "  'exchangedate': '02.02.2022'},\n",
       " {'r030': 840,\n",
       "  'txt': 'Долар США',\n",
       "  'rate': 28.4555,\n",
       "  'cc': 'USD',\n",
       "  'exchangedate': '01.02.2022'},\n",
       " {'r030': 840,\n",
       "  'txt': 'Долар США',\n",
       "  'rate': 28.7839,\n",
       "  'cc': 'USD',\n",
       "  'exchangedate': '31.01.2022'},\n",
       " {'r030': 840,\n",
       "  'txt': 'Долар США',\n",
       "  'rate': 28.9879,\n",
       "  'cc': 'USD',\n",
       "  'exchangedate': '30.01.2022'},\n",
       " {'r030': 840,\n",
       "  'txt': 'Долар США',\n",
       "  'rate': 28.9879,\n",
       "  'cc': 'USD',\n",
       "  'exchangedate': '29.01.2022'},\n",
       " {'r030': 840,\n",
       "  'txt': 'Долар США',\n",
       "  'rate': 28.9879,\n",
       "  'cc': 'USD',\n",
       "  'exchangedate': '28.01.2022'},\n",
       " {'r030': 840,\n",
       "  'txt': 'Долар США',\n",
       "  'rate': 28.7984,\n",
       "  'cc': 'USD',\n",
       "  'exchangedate': '27.01.2022'},\n",
       " {'r030': 840,\n",
       "  'txt': 'Долар США',\n",
       "  'rate': 28.6658,\n",
       "  'cc': 'USD',\n",
       "  'exchangedate': '26.01.2022'},\n",
       " {'r030': 840,\n",
       "  'txt': 'Долар США',\n",
       "  'rate': 28.3749,\n",
       "  'cc': 'USD',\n",
       "  'exchangedate': '25.01.2022'},\n",
       " {'r030': 840,\n",
       "  'txt': 'Долар США',\n",
       "  'rate': 28.3181,\n",
       "  'cc': 'USD',\n",
       "  'exchangedate': '24.01.2022'},\n",
       " {'r030': 840,\n",
       "  'txt': 'Долар США',\n",
       "  'rate': 28.3236,\n",
       "  'cc': 'USD',\n",
       "  'exchangedate': '23.01.2022'},\n",
       " {'r030': 840,\n",
       "  'txt': 'Долар США',\n",
       "  'rate': 28.3236,\n",
       "  'cc': 'USD',\n",
       "  'exchangedate': '22.01.2022'},\n",
       " {'r030': 840,\n",
       "  'txt': 'Долар США',\n",
       "  'rate': 28.3236,\n",
       "  'cc': 'USD',\n",
       "  'exchangedate': '21.01.2022'},\n",
       " {'r030': 840,\n",
       "  'txt': 'Долар США',\n",
       "  'rate': 28.4038,\n",
       "  'cc': 'USD',\n",
       "  'exchangedate': '20.01.2022'},\n",
       " {'r030': 840,\n",
       "  'txt': 'Долар США',\n",
       "  'rate': 28.4101,\n",
       "  'cc': 'USD',\n",
       "  'exchangedate': '19.01.2022'},\n",
       " {'r030': 840,\n",
       "  'txt': 'Долар США',\n",
       "  'rate': 28.122,\n",
       "  'cc': 'USD',\n",
       "  'exchangedate': '18.01.2022'},\n",
       " {'r030': 840,\n",
       "  'txt': 'Долар США',\n",
       "  'rate': 27.9514,\n",
       "  'cc': 'USD',\n",
       "  'exchangedate': '17.01.2022'},\n",
       " {'r030': 840,\n",
       "  'txt': 'Долар США',\n",
       "  'rate': 27.7372,\n",
       "  'cc': 'USD',\n",
       "  'exchangedate': '16.01.2022'},\n",
       " {'r030': 840,\n",
       "  'txt': 'Долар США',\n",
       "  'rate': 27.7372,\n",
       "  'cc': 'USD',\n",
       "  'exchangedate': '15.01.2022'},\n",
       " {'r030': 840,\n",
       "  'txt': 'Долар США',\n",
       "  'rate': 27.7372,\n",
       "  'cc': 'USD',\n",
       "  'exchangedate': '14.01.2022'},\n",
       " {'r030': 840,\n",
       "  'txt': 'Долар США',\n",
       "  'rate': 27.7073,\n",
       "  'cc': 'USD',\n",
       "  'exchangedate': '13.01.2022'},\n",
       " {'r030': 840,\n",
       "  'txt': 'Долар США',\n",
       "  'rate': 27.5093,\n",
       "  'cc': 'USD',\n",
       "  'exchangedate': '12.01.2022'},\n",
       " {'r030': 840,\n",
       "  'txt': 'Долар США',\n",
       "  'rate': 27.4998,\n",
       "  'cc': 'USD',\n",
       "  'exchangedate': '11.01.2022'},\n",
       " {'r030': 840,\n",
       "  'txt': 'Долар США',\n",
       "  'rate': 27.4977,\n",
       "  'cc': 'USD',\n",
       "  'exchangedate': '10.01.2022'},\n",
       " {'r030': 840,\n",
       "  'txt': 'Долар США',\n",
       "  'rate': 27.4551,\n",
       "  'cc': 'USD',\n",
       "  'exchangedate': '09.01.2022'},\n",
       " {'r030': 840,\n",
       "  'txt': 'Долар США',\n",
       "  'rate': 27.4551,\n",
       "  'cc': 'USD',\n",
       "  'exchangedate': '08.01.2022'},\n",
       " {'r030': 840,\n",
       "  'txt': 'Долар США',\n",
       "  'rate': 27.4551,\n",
       "  'cc': 'USD',\n",
       "  'exchangedate': '07.01.2022'},\n",
       " {'r030': 840,\n",
       "  'txt': 'Долар США',\n",
       "  'rate': 27.4551,\n",
       "  'cc': 'USD',\n",
       "  'exchangedate': '06.01.2022'},\n",
       " {'r030': 840,\n",
       "  'txt': 'Долар США',\n",
       "  'rate': 27.2976,\n",
       "  'cc': 'USD',\n",
       "  'exchangedate': '05.01.2022'},\n",
       " {'r030': 840,\n",
       "  'txt': 'Долар США',\n",
       "  'rate': 27.2782,\n",
       "  'cc': 'USD',\n",
       "  'exchangedate': '04.01.2022'},\n",
       " {'r030': 840,\n",
       "  'txt': 'Долар США',\n",
       "  'rate': 27.2782,\n",
       "  'cc': 'USD',\n",
       "  'exchangedate': '03.01.2022'},\n",
       " {'r030': 840,\n",
       "  'txt': 'Долар США',\n",
       "  'rate': 27.2782,\n",
       "  'cc': 'USD',\n",
       "  'exchangedate': '02.01.2022'},\n",
       " {'r030': 840,\n",
       "  'txt': 'Долар США',\n",
       "  'rate': 27.2782,\n",
       "  'cc': 'USD',\n",
       "  'exchangedate': '01.01.2022'}]"
      ]
     },
     "metadata":{
      
     },
     "output_type":"display_data"
    }
   ],
   "metadata":{
    "datalore":{
     "type":"CODE",
     "hide_input_from_viewers":false,
     "hide_output_from_viewers":false
    }
   }
  },
  {
   "cell_type":"markdown",
   "source":[
    "3. Вивести середнє значення та відхилення курсу за кожний місяць."
   ],
   "attachments":{
    
   },
   "metadata":{
    "datalore":{
     "type":"MD",
     "hide_input_from_viewers":false,
     "hide_output_from_viewers":false
    }
   }
  },
  {
   "cell_type":"code",
   "source":[
    "from datetime import date, datetime, timedelta\n",
    "import requests, statistics\n",
    "\n",
    "\n",
    "dateBY = date(2022, 1, 1)\n",
    "date = datetime.now()\n",
    "curDate = date.date()\n",
    "delta = curDate - dateBY\n",
    "curMonth = datetime.now().month\n",
    "\n",
    "db = []\n",
    "mvD = {}\n",
    "valueDict = {}\n",
    "listSTD = []\n",
    "meanValue = 0\n",
    "days = 0\n",
    "\n",
    "# Названия парамтров из адресной строки\n",
    "for d in range(delta.days + 1):\n",
    "\n",
    "    params = {\n",
    "    \n",
    "       'json' : 'json',\n",
    "       'date' : date.strftime('%Y%m%d'),\n",
    "       'valcode' : 'USD'\n",
    "    \n",
    "    }\n",
    "\n",
    "    currReq = requests.get('https:\/\/bank.gov.ua\/NBUStatService\/v1\/statdirectory\/exchange', params = params)\n",
    "\n",
    "    result = currReq.json()\n",
    "    db.extend(result)\n",
    "    \n",
    "    date = date - timedelta(days=1)\n",
    "    dateDB = db[d]['exchangedate']\n",
    "    monthDB = dateDB.split('.')\n",
    "    monthDBN = int(monthDB[1])\n",
    " \n",
    "    if monthDBN == curMonth:\n",
    "        meanValue = meanValue + db[d]['rate']\n",
    "        listSTD.append(db[d]['rate'])\n",
    "        days += 1\n",
    "    else:\n",
    "        mvD[curMonth] = (meanValue \/ days)\n",
    "        valueDict[curMonth] = listSTD\n",
    "        curMonth = monthDBN\n",
    "        meanValue = db[d]['rate']\n",
    "        listSTD= []\n",
    "        listSTD.append(db[d]['rate'])\n",
    "        \n",
    "        days = 1\n",
    "    mvD[curMonth] = meanValue \/ days\n",
    "    valueDict[curMonth] = listSTD\n",
    "    \n",
    "for keys, values in mvD.items():\n",
    "    print(\"mean Value - \" + str(keys), str(values))\n",
    "\n",
    "\n",
    "stdevDict = {}\n",
    "for key, value in valueDict.items():\n",
    "    stdevDict[key] = statistics.stdev(value)  \n",
    "\n",
    "print('Standard deviation')\n",
    "stdevDict"
   ],
   "execution_count":1,
   "outputs":[
    {
     "name":"stdout",
     "text":[
      "mean Value - 6 29.254900000000003\n",
      "mean Value - 5 29.254900000000013\n",
      "mean Value - 4 29.254900000000013\n",
      "mean Value - 3 29.254900000000013\n",
      "mean Value - 2 28.413664285714283\n",
      "mean Value - 1 27.98127096774194\n",
      "Standard deviation\n"
     ],
     "output_type":"stream"
    },
    {
     "data":{
      "text\/plain":[
       "{6: 0.0, 5: 0.0, 4: 0.0, 3: 0.0, 2: 0.4628261934505384, 1: 0.5864507613281491}"
      ]
     },
     "metadata":{
      
     },
     "output_type":"display_data"
    }
   ],
   "metadata":{
    "datalore":{
     "type":"CODE",
     "hide_input_from_viewers":false,
     "hide_output_from_viewers":false
    }
   }
  },
  {
   "cell_type":"markdown",
   "source":[
    "4. Дану інформацію записати у файл за допомогою pickle."
   ],
   "attachments":{
    
   },
   "metadata":{
    "datalore":{
     "type":"MD",
     "hide_input_from_viewers":false,
     "hide_output_from_viewers":false
    }
   }
  },
  {
   "cell_type":"code",
   "source":[
    "from datetime import date, datetime, timedelta\n",
    "import requests, statistics, pickle\n",
    "\n",
    "\n",
    "dateBY = date(2022, 1, 1)\n",
    "date = datetime.now()\n",
    "curDate = date.date()\n",
    "delta = curDate - dateBY\n",
    "curMonth = datetime.now().month\n",
    "\n",
    "db = []\n",
    "mvD = {}\n",
    "valueDict = {}\n",
    "listSTD = []\n",
    "meanValue = 0\n",
    "days = 0\n",
    "\n",
    "# Названия парамтров из адресной строки\n",
    "for d in range(delta.days + 1):\n",
    "\n",
    "    params = {\n",
    "    \n",
    "       'json' : 'json',\n",
    "       'date' : date.strftime('%Y%m%d'),\n",
    "       'valcode' : 'USD'\n",
    "    \n",
    "    }\n",
    "\n",
    "    currReq = requests.get('https:\/\/bank.gov.ua\/NBUStatService\/v1\/statdirectory\/exchange', params = params)\n",
    "\n",
    "    result = currReq.json()\n",
    "    db.extend(result)\n",
    "    \n",
    "    date = date - timedelta(days=1)\n",
    "    dateDB = db[d]['exchangedate']\n",
    "    monthDB = dateDB.split('.')\n",
    "    monthDBN = int(monthDB[1])\n",
    " \n",
    "    if monthDBN == curMonth:\n",
    "        meanValue = meanValue + db[d]['rate']\n",
    "        listSTD.append(db[d]['rate'])\n",
    "        days += 1\n",
    "    else:\n",
    "        mvD[curMonth] = (meanValue \/ days)\n",
    "        valueDict[curMonth] = listSTD\n",
    "        curMonth = monthDBN\n",
    "        meanValue = db[d]['rate']\n",
    "        listSTD= []\n",
    "        listSTD.append(db[d]['rate'])\n",
    "        \n",
    "        days = 1\n",
    "    mvD[curMonth] = meanValue \/ days\n",
    "    valueDict[curMonth] = listSTD\n",
    "    \n",
    "\n",
    "\n",
    "\n",
    "stdevDict = {}\n",
    "for key, value in valueDict.items():\n",
    "    stdevDict[key] = statistics.stdev(value)  \n",
    "\n",
    "\n",
    "\n",
    "\n",
    "file1 = open('myfile.bin', 'wb')\n",
    "\n",
    "pickle.dump(stdevDict, file1)\n",
    "\n",
    "file1.close()\n",
    "\n",
    "file2 = open('myfile1.bin', 'wb')\n",
    "\n",
    "pickle.dump(mvD, file2)\n",
    "\n",
    "file2.close()"
   ],
   "execution_count":119,
   "outputs":[
    
   ],
   "metadata":{
    "datalore":{
     "type":"CODE",
     "hide_input_from_viewers":false,
     "hide_output_from_viewers":false
    }
   }
  },
  {
   "cell_type":"markdown",
   "source":[
    "### Завдання 2:"
   ],
   "attachments":{
    
   },
   "metadata":{
    "datalore":{
     "type":"MD",
     "hide_input_from_viewers":false,
     "hide_output_from_viewers":false
    }
   }
  },
  {
   "cell_type":"markdown",
   "source":[
    "Потрібно проаналізувати всі товари на сайті: \n",
    "https:\/\/smallpacking.agrosem.ua\/shop\/"
   ],
   "attachments":{
    
   },
   "metadata":{
    "datalore":{
     "type":"MD",
     "hide_input_from_viewers":false,
     "hide_output_from_viewers":false
    }
   }
  },
  {
   "cell_type":"markdown",
   "source":[
    "Створіть базу даних, що містить таблицю із такими стовбцями: \n",
    "    - артикул товару\n",
    "    - найменування\n",
    "    - ціна \n",
    "    - вага"
   ],
   "attachments":{
    
   },
   "metadata":{
    "datalore":{
     "type":"MD",
     "hide_input_from_viewers":false,
     "hide_output_from_viewers":false
    }
   }
  },
  {
   "cell_type":"code",
   "source":[
    "\"\"\"CREATE DATABASE agrosem\"\"\"\n",
    "\n",
    "\"\"\"CREATE TABLE product(\n",
    "    product_id int AUTO_INCREMENT \n",
    "    product_code int NOT NULL,\n",
    "    name varchar(100) NOT NULL,\n",
    "    price DECIMAL(15, 2) NOT NULL,\n",
    "    weight DECIMAL(15, 2) NOT NULL\n",
    "    PRIMARY KEY(product_id); \n",
    ")\"\"\""
   ],
   "execution_count":null,
   "outputs":[
    
   ],
   "metadata":{
    "datalore":{
     "type":"CODE",
     "hide_input_from_viewers":false,
     "hide_output_from_viewers":false
    }
   }
  },
  {
   "cell_type":"markdown",
   "source":[
    "### Завдання 3: "
   ],
   "attachments":{
    
   },
   "metadata":{
    "datalore":{
     "type":"MD",
     "hide_input_from_viewers":false,
     "hide_output_from_viewers":false
    }
   }
  },
  {
   "cell_type":"markdown",
   "source":[
    "Ознайомтеся із роботою SQLite та відповідним модулем у Python.\n",
    "Завантажте базу даних для виконання лабораторної роботи.\n",
    "Підключіться до завантаженої бази SQLite."
   ],
   "attachments":{
    
   },
   "metadata":{
    "datalore":{
     "type":"MD",
     "hide_input_from_viewers":false,
     "hide_output_from_viewers":false
    }
   }
  },
  {
   "cell_type":"markdown",
   "source":[
    "1. Виведіть інформацію про дану базу."
   ],
   "attachments":{
    
   },
   "metadata":{
    "datalore":{
     "type":"MD",
     "hide_input_from_viewers":false,
     "hide_output_from_viewers":false
    }
   }
  },
  {
   "cell_type":"code",
   "source":[
    "# Show info about DB\n",
    "import sqlite3\n",
    "\n",
    "conn = sqlite3.connect(\"\/data\/notebook_files\/tysql.sqlite\")\n",
    "curs = conn.cursor()\n",
    "\n",
    "curs.execute(\"PRAGMA database_list;\")\n",
    "curr_table = curs.fetchall()\n",
    "print(curr_table)\n",
    "conn.close()"
   ],
   "execution_count":75,
   "outputs":[
    {
     "name":"stdout",
     "text":[
      "[(0, 'main', '\/data\/notebook_files\/tysql.sqlite')]\n"
     ],
     "output_type":"stream"
    }
   ],
   "metadata":{
    "datalore":{
     "type":"CODE",
     "hide_input_from_viewers":false,
     "hide_output_from_viewers":false
    }
   }
  },
  {
   "cell_type":"markdown",
   "source":[
    "2. Виведіть перелік всіх таблиць."
   ],
   "attachments":{
    
   },
   "metadata":{
    "datalore":{
     "type":"MD",
     "hide_input_from_viewers":false,
     "hide_output_from_viewers":false
    }
   }
  },
  {
   "cell_type":"code",
   "source":[
    "#Show list of all tables in DB\n",
    "import sqlite3\n",
    "\n",
    "conn = sqlite3.connect(\"\/data\/notebook_files\/tysql.sqlite\")\n",
    "curs = conn.cursor()\n",
    "\n",
    "curs.execute('SELECT name from sqlite_master where type = \"table\";')\n",
    "curr_table = curs.fetchall()\n",
    "\n",
    "print(curr_table)"
   ],
   "execution_count":76,
   "outputs":[
    {
     "name":"stdout",
     "text":[
      "[('Customers',), ('OrderItems',), ('Orders',), ('Products',), ('Vendors',)]\n"
     ],
     "output_type":"stream"
    }
   ],
   "metadata":{
    "datalore":{
     "type":"CODE",
     "hide_input_from_viewers":false,
     "hide_output_from_viewers":false
    }
   }
  },
  {
   "cell_type":"markdown",
   "source":[
    "3. Список всіх cust_id з таблиці Customers table."
   ],
   "attachments":{
    
   },
   "metadata":{
    "datalore":{
     "type":"MD",
     "hide_input_from_viewers":false,
     "hide_output_from_viewers":false
    }
   }
  },
  {
   "cell_type":"code",
   "source":[
    "\n",
    "import sqlite3\n",
    "\n",
    "conn = sqlite3.connect(\"\/data\/notebook_files\/tysql.sqlite\")\n",
    "curs = conn.cursor()\n",
    "\n",
    "curs.execute('SELECT cust_id FROM customers;')\n",
    "curr_table = curs.fetchall()\n",
    "\n",
    "print(curr_table)"
   ],
   "execution_count":77,
   "outputs":[
    {
     "name":"stdout",
     "text":[
      "[('1000000001',), ('1000000002',), ('1000000003',), ('1000000004',), ('1000000005',)]\n"
     ],
     "output_type":"stream"
    }
   ],
   "metadata":{
    "datalore":{
     "type":"CODE",
     "hide_input_from_viewers":false,
     "hide_output_from_viewers":false
    }
   }
  },
  {
   "cell_type":"markdown",
   "source":[
    "4. Всю таблицю Customers table"
   ],
   "attachments":{
    
   },
   "metadata":{
    "datalore":{
     "type":"MD",
     "hide_input_from_viewers":false,
     "hide_output_from_viewers":false
    }
   }
  },
  {
   "cell_type":"code",
   "source":[
    "#Show list of all tables in DB\n",
    "import sqlite3\n",
    "\n",
    "conn = sqlite3.connect(\"\/data\/notebook_files\/tysql.sqlite\")\n",
    "curs = conn.cursor()\n",
    "\n",
    "curs.execute('SELECT * FROM customers;')\n",
    "curr_table = curs.fetchall()\n",
    "\n",
    "for i in enumerate(curr_table):\n",
    "    print(i)"
   ],
   "execution_count":97,
   "outputs":[
    {
     "name":"stdout",
     "text":[
      "(0, ('1000000001', 'Village Toys', '200 Maple Lane', 'Detroit', 'MI', '44444', 'USA', 'John Smith', 'sales@villagetoys.com'))\n",
      "(1, ('1000000002', 'Kids Place', '333 South Lake Drive', 'Columbus', 'OH', '43333', 'USA', 'Michelle Green', None))\n",
      "(2, ('1000000003', 'Fun4All', '1 Sunny Place', 'Muncie', 'IN', '42222', 'USA', 'Jim Jones', 'jjones@fun4all.com'))\n",
      "(3, ('1000000004', 'Fun4All', '829 Riverside Drive', 'Phoenix', 'AZ', '88888', 'USA', 'Denise L. Stephens', 'dstephens@fun4all.com'))\n",
      "(4, ('1000000005', 'The Toy Store', '4545 53rd Street', 'Chicago', 'IL', '54545', 'USA', 'Kim Howard', None))\n"
     ],
     "output_type":"stream"
    }
   ],
   "metadata":{
    "datalore":{
     "type":"CODE",
     "hide_input_from_viewers":false,
     "hide_output_from_viewers":false
    }
   }
  },
  {
   "cell_type":"markdown",
   "source":[
    "5. Список клієнтів (cust_names) відсортованих від Z до A"
   ],
   "attachments":{
    
   },
   "metadata":{
    "datalore":{
     "type":"MD",
     "hide_input_from_viewers":false,
     "hide_output_from_viewers":false
    }
   }
  },
  {
   "cell_type":"code",
   "source":[
    "\n",
    "import sqlite3\n",
    "\n",
    "conn = sqlite3.connect(\"\/data\/notebook_files\/tysql.sqlite\")\n",
    "curs = conn.cursor()\n",
    "\n",
    "curs.execute('SELECT DISTINCT cust_name FROM customers ORDER BY cust_name DESC;')\n",
    "curr_table = curs.fetchall()\n",
    "\n",
    "print(curr_table)"
   ],
   "execution_count":86,
   "outputs":[
    {
     "name":"stdout",
     "text":[
      "[('Village Toys',), ('The Toy Store',), ('Kids Place',), ('Fun4All',)]\n"
     ],
     "output_type":"stream"
    }
   ],
   "metadata":{
    "datalore":{
     "type":"CODE",
     "hide_input_from_viewers":false,
     "hide_output_from_viewers":false
    }
   }
  },
  {
   "cell_type":"markdown",
   "source":[
    "6. Таблицю клієнтів та замовлень (cust_id і order_num) . Відсортуйте по клієнту і потім по даті замовлення"
   ],
   "attachments":{
    
   },
   "metadata":{
    "datalore":{
     "type":"MD",
     "hide_input_from_viewers":false,
     "hide_output_from_viewers":false
    }
   }
  },
  {
   "cell_type":"code",
   "source":[
    "import sqlite3\n",
    "\n",
    "conn = sqlite3.connect(\"\/data\/notebook_files\/tysql.sqlite\")\n",
    "curs = conn.cursor()\n",
    "\n",
    "curs.execute('SELECT cust_id, order_num FROM orders ORDER BY cust_id, order_date;')\n",
    "curr_table = curs.fetchall()\n",
    "\n",
    "print(curr_table)"
   ],
   "execution_count":87,
   "outputs":[
    {
     "name":"stdout",
     "text":[
      "[('1000000001', 20009), ('1000000001', 20005), ('1000000003', 20006), ('1000000004', 20007), ('1000000005', 20008)]\n"
     ],
     "output_type":"stream"
    }
   ],
   "metadata":{
    "datalore":{
     "type":"CODE",
     "hide_input_from_viewers":false,
     "hide_output_from_viewers":false
    }
   }
  },
  {
   "cell_type":"markdown",
   "source":[
    "7. Таблицю (на основі Items) з кількість та вартістю товару. Відсортуйте в порядку спадання по кількості та вартості"
   ],
   "attachments":{
    
   },
   "metadata":{
    "datalore":{
     "type":"MD",
     "hide_input_from_viewers":false,
     "hide_output_from_viewers":false
    }
   }
  },
  {
   "cell_type":"code",
   "source":[
    "import sqlite3\n",
    "\n",
    "conn = sqlite3.connect(\"\/data\/notebook_files\/tysql.sqlite\")\n",
    "curs = conn.cursor()\n",
    "\n",
    "curs.execute('SELECT * FROM orderitems ORDER BY quantity DESC, item_price DESC;')\n",
    "curr_table = curs.fetchall()\n",
    "\n",
    "for i in enumerate(curr_table):\n",
    "    print(i)"
   ],
   "execution_count":94,
   "outputs":[
    {
     "name":"stdout",
     "text":[
      "(0, (20009, 1, 'BNBG01', 250, 2.49))\n",
      "(1, (20009, 2, 'BNBG02', 250, 2.49))\n",
      "(2, (20009, 3, 'BNBG03', 250, 2.49))\n",
      "(3, (20005, 2, 'BR03', 100, 10.99))\n",
      "(4, (20005, 1, 'BR01', 100, 5.49))\n",
      "(5, (20007, 2, 'BNBG01', 100, 2.99))\n",
      "(6, (20007, 3, 'BNBG02', 100, 2.99))\n",
      "(7, (20007, 4, 'BNBG03', 100, 2.99))\n",
      "(8, (20007, 1, 'BR03', 50, 11.49))\n",
      "(9, (20007, 5, 'RGAN01', 50, 4.49))\n",
      "(10, (20006, 1, 'BR01', 20, 5.99))\n",
      "(11, (20006, 3, 'BR03', 10, 11.99))\n",
      "(12, (20006, 2, 'BR02', 10, 8.99))\n",
      "(13, (20008, 3, 'BNBG01', 10, 3.49))\n",
      "(14, (20008, 4, 'BNBG02', 10, 3.49))\n",
      "(15, (20008, 5, 'BNBG03', 10, 3.49))\n",
      "(16, (20008, 2, 'BR03', 5, 11.99))\n",
      "(17, (20008, 1, 'RGAN01', 5, 4.99))\n"
     ],
     "output_type":"stream"
    }
   ],
   "metadata":{
    "datalore":{
     "type":"CODE",
     "hide_input_from_viewers":false,
     "hide_output_from_viewers":false
    }
   }
  },
  {
   "cell_type":"markdown",
   "source":[
    "8. Товар (з таблиці Products), ціна якого становить 9.49"
   ],
   "attachments":{
    
   },
   "metadata":{
    "datalore":{
     "type":"MD",
     "hide_input_from_viewers":false,
     "hide_output_from_viewers":false
    }
   }
  },
  {
   "cell_type":"code",
   "source":[
    "import sqlite3\n",
    "\n",
    "conn = sqlite3.connect(\"\/data\/notebook_files\/tysql.sqlite\")\n",
    "curs = conn.cursor()\n",
    "\n",
    "curs.execute(\"SELECT prod_name FROM products WHERE prod_price = '9.49';\")\n",
    "curr_table = curs.fetchall()\n",
    "\n",
    "for i in enumerate(curr_table):\n",
    "    print(i)"
   ],
   "execution_count":96,
   "outputs":[
    {
     "name":"stdout",
     "text":[
      "(0, ('King doll',))\n",
      "(1, ('Queen doll',))\n"
     ],
     "output_type":"stream"
    }
   ],
   "metadata":{
    "datalore":{
     "type":"CODE",
     "hide_input_from_viewers":false,
     "hide_output_from_viewers":false
    }
   }
  },
  {
   "cell_type":"markdown",
   "source":[
    "9. Виведіть назву товару та ціну, яка лежить в діапазоні від  3 до 6. Відсортуйте результат в по ціні в порядку зростання"
   ],
   "attachments":{
    
   },
   "metadata":{
    "datalore":{
     "type":"MD",
     "hide_input_from_viewers":false,
     "hide_output_from_viewers":false
    }
   }
  },
  {
   "cell_type":"code",
   "source":[
    "import sqlite3\n",
    "\n",
    "conn = sqlite3.connect(\"\/data\/notebook_files\/tysql.sqlite\")\n",
    "curs = conn.cursor()\n",
    "\n",
    "curs.execute(\"SELECT prod_name, prod_price FROM products WHERE prod_price BETWEEN '3' AND '6' ORDER BY prod_price;\")\n",
    "curr_table = curs.fetchall()\n",
    "\n",
    "for i in enumerate(curr_table):\n",
    "    print(i)"
   ],
   "execution_count":102,
   "outputs":[
    {
     "name":"stdout",
     "text":[
      "(0, ('Fish bean bag toy', 3.49))\n",
      "(1, ('Bird bean bag toy', 3.49))\n",
      "(2, ('Rabbit bean bag toy', 3.49))\n",
      "(3, ('Raggedy Ann', 4.99))\n",
      "(4, ('8 inch teddy bear', 5.99))\n"
     ],
     "output_type":"stream"
    }
   ],
   "metadata":{
    "datalore":{
     "type":"CODE",
     "hide_input_from_viewers":false,
     "hide_output_from_viewers":false
    }
   }
  },
  {
   "cell_type":"markdown",
   "source":[
    "10. Кількість товару, що було продано"
   ],
   "attachments":{
    
   },
   "metadata":{
    "datalore":{
     "type":"MD",
     "hide_input_from_viewers":false,
     "hide_output_from_viewers":false
    }
   }
  },
  {
   "cell_type":"code",
   "source":[
    "import sqlite3\n",
    "\n",
    "conn = sqlite3.connect(\"\/data\/notebook_files\/tysql.sqlite\")\n",
    "curs = conn.cursor()\n",
    "\n",
    "curs.execute(\"\"\"SELECT products.prod_name, SUM(orderitems.quantity), orderitems.prod_id FROM \n",
    "                orderitems INNER JOIN products ON products.prod_id = orderitems.prod_id\n",
    "                GROUP BY products.prod_name ;\"\"\")\n",
    "curr_table = curs.fetchall()\n",
    "\n",
    "for i in enumerate(curr_table):\n",
    "    print(i)"
   ],
   "execution_count":109,
   "outputs":[
    {
     "name":"stdout",
     "text":[
      "(0, ('12 inch teddy bear', 10, 'BR02'))\n",
      "(1, ('18 inch teddy bear', 165, 'BR03'))\n",
      "(2, ('8 inch teddy bear', 120, 'BR01'))\n",
      "(3, ('Bird bean bag toy', 360, 'BNBG02'))\n",
      "(4, ('Fish bean bag toy', 360, 'BNBG01'))\n",
      "(5, ('Rabbit bean bag toy', 360, 'BNBG03'))\n",
      "(6, ('Raggedy Ann', 55, 'RGAN01'))\n"
     ],
     "output_type":"stream"
    }
   ],
   "metadata":{
    "datalore":{
     "type":"CODE",
     "hide_input_from_viewers":false,
     "hide_output_from_viewers":false
    }
   }
  },
  {
   "cell_type":"markdown",
   "source":[
    "11. Кількість найменувань товару, ціна якого більша за 4"
   ],
   "attachments":{
    
   },
   "metadata":{
    "datalore":{
     "type":"MD",
     "hide_input_from_viewers":false,
     "hide_output_from_viewers":false
    }
   }
  },
  {
   "cell_type":"code",
   "source":[
    "import sqlite3\n",
    "\n",
    "conn = sqlite3.connect(\"\/data\/notebook_files\/tysql.sqlite\")\n",
    "curs = conn.cursor()\n",
    "\n",
    "curs.execute(\"\"\"SELECT COUNT(prod_name) FROM \n",
    "                products\n",
    "                WHERE products.prod_price > 4;\"\"\")\n",
    "curr_table = curs.fetchall()\n",
    "\n",
    "print(curr_table)"
   ],
   "execution_count":119,
   "outputs":[
    {
     "name":"stdout",
     "text":[
      "[(6,)]\n"
     ],
     "output_type":"stream"
    }
   ],
   "metadata":{
    "datalore":{
     "type":"CODE",
     "hide_input_from_viewers":false,
     "hide_output_from_viewers":false
    }
   }
  },
  {
   "cell_type":"markdown",
   "source":[
    "12. Розробіть алгоритм для виведення 3 найдорожчих товарів в базі"
   ],
   "attachments":{
    
   },
   "metadata":{
    "datalore":{
     "type":"MD",
     "hide_input_from_viewers":false,
     "hide_output_from_viewers":false
    }
   }
  },
  {
   "cell_type":"code",
   "source":[
    "conn = sqlite3.connect(\"\/data\/notebook_files\/tysql.sqlite\")\n",
    "curs = conn.cursor()\n",
    "\n",
    "curs.execute(\"\"\"SELECT prod_name, prod_price FROM \n",
    "                products order BY prod_price DESC;\"\"\")\n",
    "curr_table = curs.fetchall()\n",
    "\n",
    "for count, value in enumerate(curr_table):\n",
    "    print(count, value)\n",
    "    if count > 1:\n",
    "        break"
   ],
   "execution_count":128,
   "outputs":[
    {
     "name":"stdout",
     "text":[
      "0 ('18 inch teddy bear', 11.99)\n",
      "1 ('King doll', 9.49)\n",
      "2 ('Queen doll', 9.49)\n"
     ],
     "output_type":"stream"
    }
   ],
   "metadata":{
    "datalore":{
     "type":"CODE",
     "hide_input_from_viewers":false,
     "hide_output_from_viewers":false
    }
   }
  },
  {
   "cell_type":"markdown",
   "source":[
    "13. Підрахуйте кількість замовлень для кожного клієнта використовуючи підзапити"
   ],
   "attachments":{
    
   },
   "metadata":{
    "datalore":{
     "type":"MD",
     "hide_input_from_viewers":false,
     "hide_output_from_viewers":false
    }
   }
  },
  {
   "cell_type":"code",
   "source":[
    "conn = sqlite3.connect(\"\/data\/notebook_files\/tysql.sqlite\")\n",
    "curs = conn.cursor()\n",
    "\n",
    "curs.execute(\"\"\"SELECT cust_id, COUNT(order_num) FROM \n",
    "                orders GROUP BY cust_id;\"\"\")\n",
    "curr_table = curs.fetchall()\n",
    "\n",
    "for count, value in enumerate(curr_table):\n",
    "    print(count, value)"
   ],
   "execution_count":131,
   "outputs":[
    {
     "name":"stdout",
     "text":[
      "0 ('1000000001', 2)\n",
      "1 ('1000000003', 1)\n",
      "2 ('1000000004', 1)\n",
      "3 ('1000000005', 1)\n"
     ],
     "output_type":"stream"
    }
   ],
   "metadata":{
    "datalore":{
     "type":"CODE",
     "hide_input_from_viewers":false,
     "hide_output_from_viewers":false
    }
   }
  },
  {
   "cell_type":"markdown",
   "source":[
    "14. Виведіть список клієнтів та їх замовлення (використайте JOIN)"
   ],
   "attachments":{
    
   },
   "metadata":{
    "datalore":{
     "type":"MD",
     "hide_input_from_viewers":false,
     "hide_output_from_viewers":false
    }
   }
  },
  {
   "cell_type":"code",
   "source":[
    "import sqlite3\n",
    "\n",
    "conn = sqlite3.connect(\"\/data\/notebook_files\/tysql.sqlite\")\n",
    "curs = conn.cursor()\n",
    "\n",
    "curs.execute(\"\"\"SELECT customers.cust_name, orders.order_num FROM \n",
    "                customers INNER JOIN orders ON customers.cust_id = orders.cust_id ;\"\"\")\n",
    "curr_table = curs.fetchall()\n",
    "\n",
    "for i in enumerate(curr_table):\n",
    "    print(i)"
   ],
   "execution_count":133,
   "outputs":[
    {
     "name":"stdout",
     "text":[
      "(0, ('Village Toys', 20005))\n",
      "(1, ('Fun4All', 20006))\n",
      "(2, ('Fun4All', 20007))\n",
      "(3, ('The Toy Store', 20008))\n",
      "(4, ('Village Toys', 20009))\n"
     ],
     "output_type":"stream"
    }
   ],
   "metadata":{
    "datalore":{
     "type":"CODE",
     "hide_input_from_viewers":false,
     "hide_output_from_viewers":false
    }
   }
  },
  {
   "cell_type":"markdown",
   "source":[
    "15. Зробіть два запити: список товарів, ціна яких менша 5 та список товарів, ціна який більша рівна 5. Використайте UNION для об'єднання цих запитів"
   ],
   "attachments":{
    
   },
   "metadata":{
    "datalore":{
     "type":"MD",
     "hide_input_from_viewers":false,
     "hide_output_from_viewers":false
    }
   }
  },
  {
   "cell_type":"code",
   "source":[
    "import sqlite3\n",
    "\n",
    "conn = sqlite3.connect(\"\/data\/notebook_files\/tysql.sqlite\")\n",
    "curs = conn.cursor()\n",
    "\n",
    "curs.execute(\"\"\"SELECT prod_name FROM \n",
    "                products \n",
    "                WHERE prod_price < 5\n",
    "                UNION\n",
    "                SELECT prod_name FROM \n",
    "                products \n",
    "                WHERE prod_price >= 5;\"\"\")\n",
    "curr_table = curs.fetchall()\n",
    "\n",
    "for i in enumerate(curr_table):\n",
    "    print(i)"
   ],
   "execution_count":135,
   "outputs":[
    {
     "name":"stdout",
     "text":[
      "(0, ('12 inch teddy bear',))\n",
      "(1, ('18 inch teddy bear',))\n",
      "(2, ('8 inch teddy bear',))\n",
      "(3, ('Bird bean bag toy',))\n",
      "(4, ('Fish bean bag toy',))\n",
      "(5, ('King doll',))\n",
      "(6, ('Queen doll',))\n",
      "(7, ('Rabbit bean bag toy',))\n",
      "(8, ('Raggedy Ann',))\n"
     ],
     "output_type":"stream"
    }
   ],
   "metadata":{
    "datalore":{
     "type":"CODE",
     "hide_input_from_viewers":false,
     "hide_output_from_viewers":false
    }
   }
  },
  {
   "cell_type":"markdown",
   "source":[
    "### Завдання 4: "
   ],
   "attachments":{
    
   },
   "metadata":{
    "datalore":{
     "type":"MD",
     "hide_input_from_viewers":false,
     "hide_output_from_viewers":false
    }
   }
  },
  {
   "cell_type":"markdown",
   "source":[
    "Зареєструйтеся на сайті  http:\/\/www.sql-ex.ru\/\n",
    "\n",
    "Виконайте завдання із блоку SELECT; з 1 по 30 завдання\n",
    "\n",
    "Код запитів вставляйте сюди"
   ],
   "attachments":{
    
   },
   "metadata":{
    "datalore":{
     "type":"MD",
     "hide_input_from_viewers":false,
     "hide_output_from_viewers":false
    }
   }
  },
  {
   "cell_type":"code",
   "source":[
    " \"\"\"1. SELECT model, speed, hd FROM pc\n",
    "WHERE price < 500\n",
    "\n",
    "2. SELECT maker FROM product\n",
    "WHERE type = 'Printer'\n",
    "GROUP BY maker\n",
    "\n",
    "3. SELECT model, ram, screen FROM laptop\n",
    "WHERE price > 1000\n",
    "\n",
    "4. SELECT * FROM printer\n",
    "WHERE color = 'y'\n",
    "\n",
    "5. SELECT model, speed, hd FROM pc\n",
    "WHERE (price < 600) AND (cd = '12x' OR cd = '24x')\n",
    "\n",
    "6. SELECT DISTINCT product.maker, laptop.speed FROM laptop\n",
    "INNER JOIN product ON product.model = laptop.model \n",
    "WHERE (laptop.hd >= 10) AND (product.type = 'laptop')\n",
    "         \n",
    "7. SELECT pc.model, pc.price FROM pc\n",
    "INNER JOIN product ON pc.model = product.model\n",
    "WHERE product.maker = 'B'\n",
    "UNION\n",
    "SELECT laptop.model, laptop.price FROM laptop\n",
    "INNER JOIN product ON laptop.model = product.model\n",
    "WHERE product.maker = 'B'\n",
    "UNION\n",
    "SELECT printer.model, printer.price FROM printer\n",
    "INNER JOIN product ON printer.model = product.model\n",
    "WHERE product.maker = 'B'\n",
    "\n",
    "         \n",
    "8. SELECT DISTINCT maker\n",
    "FROM Product\n",
    "WHERE type = 'PC' AND maker NOT IN (\n",
    "SELECT maker\n",
    "FROM Product\n",
    "WHERE type = 'Laptop')\n",
    "         \n",
    "9. SELECT DISTINCT maker FROM product \n",
    "INNER JOIN pc ON product.model = pc.model\n",
    "WHERE pc.speed >= 450\n",
    "\n",
    "10. SELECT model, price FROM printer\n",
    "WHERE price IN (SELECT MAX(price) FROM printer)\n",
    "         \n",
    "11. SELECT AVG(speed) FROM pc\n",
    "         \n",
    "12. SELECT AVG(speed) FROM laptop\n",
    "WHERE price > 1000\n",
    "         \n",
    "13. SELECT AVG(speed) FROM pc\n",
    "WHERE model IN(SELECT model FROM product WHERE maker = 'A')\n",
    "\n",
    "14. SELECT ships.class, ships.name, classes.country FROM ships\n",
    "INNER JOIN classes ON ships.class = classes.class\n",
    "WHERE classes.numGuns >= 10\n",
    "         \n",
    "15. SELECT hd FROM pc\n",
    "GROUP BY hd\n",
    "HAVING COUNT(hd) >= 2\n",
    "         \n",
    "16. SELECT DISTINCT pc1.model AS model, pc2.model AS model, pc1.speed As speed, pc1.ram As ram FROM PC AS pc1, PC AS pc2 \n",
    "WHERE pc1.speed = pc2.speed AND pc1.ram = pc2.ram AND pc1.model > pc2.model\n",
    "\n",
    "17. SELECT DISTINCT product.type, laptop.model, laptop.speed from laptop \n",
    "INNER JOIN product ON product.model = laptop.model where laptop.speed < ALL (select speed from pc)\n",
    "         \n",
    "18. SELECT product.maker, printer.price FROM product \n",
    "INNER JOIN printer ON product.model = printer.model\n",
    "WHERE printer.price IN (SELECT MIN(printer.price)FROM printer where printer.color = 'y')\n",
    "         \n",
    "19. SELECT product.maker, AVG(laptop.screen) FROM product \n",
    "INNER JOIN laptop ON product.model = laptop.model\n",
    "GROUP BY maker\n",
    "         \n",
    "20. SELECT maker, COUNT(model) FROM product\n",
    "WHERE type = 'pc'\n",
    "GROUP BY maker\n",
    "HAVING Count(model) >= 3\n",
    "         \n",
    "21. SELECT product.maker, MAX(pc.price) FROM product\n",
    "JOIN pc ON product.model = pc.model\n",
    "GROUP BY maker\n",
    "         \n",
    "22. SELECT speed, AVG(price) FROM pc\n",
    "WHERE speed > 600\n",
    "GROUP BY speed\n",
    "\n",
    "         \n",
    "23. SELECT maker FROM product\n",
    "INNER JOIN pc ON product.model = pc.model\n",
    "WHERE pc.speed >= 750\n",
    "intersect\n",
    "SELECT maker FROM product\n",
    "INNER JOIN laptop ON product.model = laptop.model\n",
    "WHERE laptop.speed >= 750\n",
    "         \n",
    "24. WITH modelMP AS (SELECT model, price FROM pc\n",
    "UNION ALL\n",
    "SELECT model, price FROM laptop\n",
    "UNION ALL\n",
    "SELECT model, price FROM printer)\n",
    "SELECT DISTINCT model FROM modelMP WHERE price IN (SELECT max(price) FROM modelMP)\n",
    "\n",
    "         \n",
    "25. SELECT DISTINCT product.maker FROM product \n",
    "JOIN pc ON product.model = pc.model \n",
    "WHERE pc.ram IN (SELECT MIN(pc.ram) FROM pc) AND (pc.speed IN (SELECT MAX(pc.speed) FROM pc WHERE pc.ram IN (SELECT MIN(ram) FROM pc) )) \n",
    "AND product.maker IN (SELECT maker FROM product WHERE type = 'printer')\n",
    "         \n",
    "26. SELECT AVG(price) AS AVGPr FROM\n",
    "(SELECT price FROM pc\n",
    "INNER JOIN product ON pc.model = product.model WHERE product.maker = 'a'\n",
    "UNION ALL\n",
    "SELECT price FROM laptop\n",
    "INNER JOIN product ON laptop.model = product.model WHERE product.maker = 'a')AS Products\n",
    "         \n",
    "27. SELECT AVG(pc.hd), product.maker FROM pc \n",
    "INNER JOIN product ON pc.model = product.model\n",
    "WHERE product.maker  IN (SELECT product.maker FROM product WHERE product.type  = 'printer')\n",
    "GROUP BY maker\n",
    "         \n",
    "28. SELECT DISTINCT COUNT(maker) AS Qty FROM product \n",
    "WHERE maker IN (SELECT maker FROM product GROUP BY maker HAVING COUNT(model) = 1)\n",
    "         \n",
    "29. SELECT income_o.point, income_o.date, inc, out FROM Income_o\n",
    "left join Outcome_o ON income_o.date = Outcome_o.date AND income_o.point = \n",
    "outcome_o.point\n",
    "UNION \n",
    "SELECT Outcome_o.point, Outcome_o.date, inc, out FROM Income_o\n",
    "right join Outcome_o ON income_o.date = Outcome_o.date AND income_o.point = \n",
    "outcome_o.point\n",
    "         \n",
    "30. select point, date, SUM(sum_out), SUM(sum_inc)\n",
    "from( select point, date, SUM(inc) as sum_inc, null as sum_out from Income Group by point, date\n",
    "Union\n",
    "select point, date, null as sum_inc, SUM(out) as sum_out from Outcome Group by point, date ) as t\n",
    "group by point, date order by point\n",
    "\n",
    "\n",
    "         "
   ],
   "execution_count":null,
   "outputs":[
    
   ],
   "metadata":{
    "datalore":{
     "type":"CODE",
     "hide_input_from_viewers":false,
     "hide_output_from_viewers":false
    }
   }
  }
 ],
 "metadata":{
  "datalore":{
   "version":1,
   "computation_mode":"JUPYTER",
   "package_manager":"pip",
   "base_environment":"default",
   "packages":[
    
   ]
  }
 },
 "nbformat":4,
 "nbformat_minor":4
}