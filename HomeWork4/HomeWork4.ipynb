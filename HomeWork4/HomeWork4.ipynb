{
 "cells":[
  {
   "cell_type":"code",
   "source":[
    "a = int(input())\n",
    "b = int(input())\n",
    "\n",
    "for i in range(a, b + 1):\n",
    "    print(i)"
   ],
   "execution_count":2,
   "outputs":[
    {
     "name":"stdout",
     "text":[
      " 2\n",
      " 6\n",
      "2\n",
      "3\n",
      "4\n",
      "5\n",
      "6\n"
     ],
     "output_type":"stream"
    }
   ],
   "metadata":{
    "datalore":{
     "type":"CODE",
     "hide_input_from_viewers":false,
     "hide_output_from_viewers":false
    }
   }
  },
  {
   "cell_type":"code",
   "source":[
    "list1 = []\n",
    "\n",
    "for i in range(10):\n",
    "    number = int(input())\n",
    "    list1.append(number)\n",
    "print(sum(list1))"
   ],
   "execution_count":10,
   "outputs":[
    {
     "name":"stdout",
     "text":[
      " 1\n",
      " 2\n",
      " 3\n",
      " 4\n",
      " 5\n",
      " 6\n",
      " 7\n",
      " 8\n",
      " 9\n",
      " 10\n",
      "55\n"
     ],
     "output_type":"stream"
    }
   ],
   "metadata":{
    "datalore":{
     "type":"CODE",
     "hide_input_from_viewers":false,
     "hide_output_from_viewers":false
    }
   }
  },
  {
   "cell_type":"code",
   "source":[
    "list1 = []\n",
    "sum1 = 0\n",
    "for i in range(10):\n",
    "    number = int(input())\n",
    "    list1.append(number)\n",
    "    sum1 = sum1 + list1[i]\n",
    "print(sum1)"
   ],
   "execution_count":13,
   "outputs":[
    {
     "name":"stdout",
     "text":[
      " 1\n",
      " 2\n",
      " 3\n",
      " 4\n",
      " 5\n",
      " 6\n",
      " 7\n",
      " 8\n",
      " 9\n",
      " 10\n",
      "55\n"
     ],
     "output_type":"stream"
    }
   ],
   "metadata":{
    "datalore":{
     "type":"CODE",
     "hide_input_from_viewers":false,
     "hide_output_from_viewers":false
    }
   }
  },
  {
   "cell_type":"code",
   "source":[
    "import random\n",
    "list_numbers = []\n",
    "indexes = []\n",
    "for i in range(10):\n",
    "    list_numbers.append(random.choice(range(100)))\n",
    "    if list_numbers[i] % 2 == 0 and list_numbers[i] != 0:\n",
    "        print(list_numbers[i])\n",
    "    if list_numbers[i] % 2 != 0 and list_numbers[i] != 0:\n",
    "        indexes.append(i)\n",
    "print(list_numbers)\n",
    "print(indexes)"
   ],
   "execution_count":60,
   "outputs":[
    {
     "name":"stdout",
     "text":[
      "90\n",
      "92\n",
      "94\n",
      "92\n",
      "[90, 92, 99, 94, 92, 95, 19, 17, 0, 1]\n",
      "[2, 5, 6, 7, 9]\n"
     ],
     "output_type":"stream"
    }
   ],
   "metadata":{
    "datalore":{
     "type":"CODE",
     "hide_input_from_viewers":false,
     "hide_output_from_viewers":false
    }
   }
  },
  {
   "cell_type":"code",
   "source":[
    "a, b = 1, 1\n",
    "for i in range(10):\n",
    "    print(a)\n",
    "    a, b = b, a + b\n",
    "\n"
   ],
   "execution_count":62,
   "outputs":[
    {
     "name":"stdout",
     "text":[
      "1\n",
      "1\n",
      "2\n",
      "3\n",
      "5\n",
      "8\n",
      "13\n",
      "21\n",
      "34\n",
      "55\n"
     ],
     "output_type":"stream"
    }
   ],
   "metadata":{
    "datalore":{
     "type":"CODE",
     "hide_input_from_viewers":false,
     "hide_output_from_viewers":false
    }
   }
  },
  {
   "cell_type":"code",
   "source":[
    "d = int(input())\n",
    "s = 1\n",
    "\n",
    "for i in range(1,d + 1,1):\n",
    "    s = s * i\n",
    "print(s)"
   ],
   "execution_count":68,
   "outputs":[
    {
     "name":"stdout",
     "text":[
      " 4\n",
      "24\n"
     ],
     "output_type":"stream"
    }
   ],
   "metadata":{
    "datalore":{
     "type":"CODE",
     "hide_input_from_viewers":false,
     "hide_output_from_viewers":false
    }
   }
  },
  {
   "cell_type":"code",
   "source":[
    "import statistics\n",
    "import numpy\n",
    "import math\n",
    "\n",
    "list_numbers1 = [185,185,176,171,163,186,186,170,192,174]\n",
    "print(list_numbers1)\n",
    "list_numbers1.sort()\n",
    "mv = sum(list_numbers1) \/ len(list_numbers1)\n",
    "print('medium value ' + str(mv))\n",
    "\n",
    "\n",
    "if len(list_numbers1) % 2 == 0:\n",
    "    med = (list_numbers1[len(list_numbers1) \/\/ 2 - 1] + list_numbers1[len(list_numbers1) \/\/ 2]) \/ 2\n",
    "\n",
    "\n",
    "print('med ' + str(med))\n",
    "\n",
    "st_dev = statistics.pstdev(list_numbers1)\n",
    "\n",
    "print('standard deviation   ' + str(st_dev))\n",
    "\n",
    "st_dev1 = numpy.std(list_numbers1)\n",
    "\n",
    "print('standard deviation   ' + str(st_dev1))\n",
    "\n",
    "mn = sum(list_numbers1) \/ len(list_numbers1)\n",
    "var = sum((i-mn)**2 for i in list_numbers1) \/ len(list_numbers1)\n",
    "st_dev2 = math.sqrt(var)\n",
    "\n",
    "print('standard deviation   ' + str(st_dev2))"
   ],
   "execution_count":87,
   "outputs":[
    {
     "name":"stdout",
     "text":[
      "[185, 185, 176, 171, 163, 186, 186, 170, 192, 174]\n",
      "medium value 178.8\n",
      "med 180.5\n",
      "standard deviation   8.795453370918409\n",
      "standard deviation   8.795453370918407\n",
      "standard deviation   8.795453370918407\n"
     ],
     "output_type":"stream"
    }
   ],
   "metadata":{
    "datalore":{
     "type":"CODE",
     "hide_input_from_viewers":false,
     "hide_output_from_viewers":false
    }
   }
  },
  {
   "cell_type":"code",
   "source":[
    "list_numbers2 = [18,6,10, 3, 7, 13, 5, 4, 96, 67]\n",
    "n1 = 0\n",
    "for i in list_numbers2:\n",
    "    for j in range(2, i):\n",
    "        if i % j == 0:\n",
    "            n1 = n1 + 1\n",
    "            break    \n",
    "  \n",
    "print(len(list_numbers2) - n1)\n",
    "    "
   ],
   "execution_count":2,
   "outputs":[
    {
     "name":"stdout",
     "text":[
      "5\n"
     ],
     "output_type":"stream"
    }
   ],
   "metadata":{
    "datalore":{
     "type":"CODE",
     "hide_input_from_viewers":false,
     "hide_output_from_viewers":false
    }
   }
  }
 ],
 "metadata":{
  "datalore":{
   "version":1,
   "computation_mode":"JUPYTER",
   "package_manager":"pip",
   "base_environment":"default",
   "packages":[
    
   ]
  }
 },
 "nbformat":4,
 "nbformat_minor":4
}