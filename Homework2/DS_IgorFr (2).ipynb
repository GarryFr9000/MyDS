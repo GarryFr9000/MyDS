{
 "cells":[
  {
   "cell_type":"code",
   "source":[
    "# Task 1\n",
    "a = int(input('Enter number a'))\n",
    "a > 0\n",
    " \n"
   ],
   "execution_count":3,
   "outputs":[
    {
     "name":"stdout",
     "text":[
      "Enter number a -2\n"
     ],
     "output_type":"stream"
    },
    {
     "data":{
      "text\/plain":[
       "False"
      ]
     },
     "metadata":{
      
     },
     "output_type":"display_data"
    }
   ],
   "metadata":{
    "datalore":{
     "type":"CODE",
     "hide_input_from_viewers":false,
     "hide_output_from_viewers":false
    }
   }
  },
  {
   "cell_type":"code",
   "source":[
    "# Task 1\n",
    "a = int(input('Enter number a'))\n",
    "a % 2 == 0"
   ],
   "execution_count":4,
   "outputs":[
    {
     "name":"stdout",
     "text":[
      "Enter number a 5\n"
     ],
     "output_type":"stream"
    },
    {
     "data":{
      "text\/plain":[
       "False"
      ]
     },
     "metadata":{
      
     },
     "output_type":"display_data"
    }
   ],
   "metadata":{
    "datalore":{
     "type":"CODE",
     "hide_input_from_viewers":false,
     "hide_output_from_viewers":false
    }
   }
  },
  {
   "cell_type":"code",
   "source":[
    "\n",
    "# Task 1\n",
    "a = int(input('Enter number a'))\n",
    "a % 13 == 0"
   ],
   "execution_count":7,
   "outputs":[
    {
     "name":"stdout",
     "text":[
      "Enter number a 27\n"
     ],
     "output_type":"stream"
    },
    {
     "data":{
      "text\/plain":[
       "False"
      ]
     },
     "metadata":{
      
     },
     "output_type":"display_data"
    }
   ],
   "metadata":{
    "datalore":{
     "type":"CODE",
     "hide_input_from_viewers":false,
     "hide_output_from_viewers":false
    }
   }
  },
  {
   "cell_type":"code",
   "source":[
    "\n",
    "# Task 1\n",
    "a = int(input('Enter number a'))\n",
    "b = int(input('Enter number b'))\n",
    "a  % 2 == 0 and b % 2 == 0"
   ],
   "execution_count":10,
   "outputs":[
    {
     "name":"stdout",
     "text":[
      "Enter number a 3\n",
      "Enter number b 5\n"
     ],
     "output_type":"stream"
    },
    {
     "data":{
      "text\/plain":[
       "False"
      ]
     },
     "metadata":{
      
     },
     "output_type":"display_data"
    }
   ],
   "metadata":{
    "datalore":{
     "type":"CODE",
     "hide_input_from_viewers":false,
     "hide_output_from_viewers":false
    }
   }
  },
  {
   "cell_type":"code",
   "source":[
    "# Task 1\n",
    "a = int(input('Enter number a'))\n",
    "b = int(input('Enter number b'))\n",
    "a  % 2 == 0 and b % 2 == 0 or a  % 2 != 0 and b % 2 != 0"
   ],
   "execution_count":14,
   "outputs":[
    {
     "name":"stdout",
     "text":[
      "Enter number a 8\n",
      "Enter number b 10\n"
     ],
     "output_type":"stream"
    },
    {
     "data":{
      "text\/plain":[
       "True"
      ]
     },
     "metadata":{
      
     },
     "output_type":"display_data"
    }
   ],
   "metadata":{
    "datalore":{
     "type":"CODE",
     "hide_input_from_viewers":false,
     "hide_output_from_viewers":false
    }
   }
  },
  {
   "cell_type":"code",
   "source":[
    "# Task 2\n",
    "pswd = input('Enter password :')\n",
    "\n",
    "len(pswd) >= 8 and '#' in pswd or len(pswd) >= 8 and '@' in pswd"
   ],
   "execution_count":23,
   "outputs":[
    {
     "name":"stdout",
     "text":[
      "Enter number a qwer@#\n"
     ],
     "output_type":"stream"
    },
    {
     "data":{
      "text\/plain":[
       "False"
      ]
     },
     "metadata":{
      
     },
     "output_type":"display_data"
    }
   ],
   "metadata":{
    "datalore":{
     "type":"CODE",
     "hide_input_from_viewers":false,
     "hide_output_from_viewers":false
    }
   }
  },
  {
   "cell_type":"code",
   "source":[
    "# Task 4\n",
    "string = input('Enter string')[::-1]\n",
    "print(string)"
   ],
   "execution_count":42,
   "outputs":[
    {
     "name":"stdout",
     "text":[
      " One Two\n",
      "owT enO\n"
     ],
     "output_type":"stream"
    }
   ],
   "metadata":{
    "datalore":{
     "type":"CODE",
     "hide_input_from_viewers":false,
     "hide_output_from_viewers":false
    }
   }
  },
  {
   "cell_type":"code",
   "source":[
    "# Task 4\n",
    "string = input('Enter string')\n",
    "\n",
    "list1 = list(string)\n",
    "list1.reverse()\n",
    "\n",
    "string1 = \"\".join(list1)\n",
    "\n",
    "print(string1)"
   ],
   "execution_count":40,
   "outputs":[
    {
     "name":"stdout",
     "text":[
      "Enter string One Two\n",
      "owT enO\n"
     ],
     "output_type":"stream"
    }
   ],
   "metadata":{
    "datalore":{
     "type":"CODE",
     "hide_input_from_viewers":false,
     "hide_output_from_viewers":false
    }
   }
  },
  {
   "cell_type":"code",
   "source":[
    "# task 3\n",
    "string2 = input('Enter symbol')\n",
    "string3 = ord(string2)\n",
    "print(string3)\n",
    "print(chr(string3+1))\n",
    "print(chr(string3-1))"
   ],
   "execution_count":63,
   "outputs":[
    {
     "name":"stdout",
     "text":[
      "Enter symbol r\n",
      "114\n",
      "s\n",
      "q\n"
     ],
     "output_type":"stream"
    }
   ],
   "metadata":{
    "datalore":{
     "type":"CODE",
     "hide_input_from_viewers":false,
     "hide_output_from_viewers":false
    }
   }
  }
 ],
 "metadata":{
  "datalore":{
   "version":1,
   "computation_mode":"JUPYTER",
   "package_manager":"pip",
   "base_environment":"default",
   "packages":[
    
   ]
  }
 },
 "nbformat":4,
 "nbformat_minor":4
}