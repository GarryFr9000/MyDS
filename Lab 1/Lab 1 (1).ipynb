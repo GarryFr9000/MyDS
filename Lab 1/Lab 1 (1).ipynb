{
 "cells": [
  {
   "cell_type": "markdown",
   "source": [
    "**1. Markdown cells**\n",
    " * Hi! Its Main academy?\n",
    " * All HTML tabs are supported\n",
    " * Моя сторінка на лінкедін [Лінкедін](https://ua.linkedin.com/) "
   ],
   "metadata": {
    "collapsed": false,
    "pycharm": {
     "name": "#%% md\n"
    }
   }
  }
 ],
 "metadata": {
  "datalore": {
   "version": 1,
   "computation_mode": "JUPYTER",
   "package_manager": "pip",
   "base_environment": "default",
   "packages": []
  }
 },
 "nbformat": 4,
 "nbformat_minor": 4
}