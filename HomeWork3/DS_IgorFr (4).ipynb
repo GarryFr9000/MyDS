{
 "cells":[
  {
   "cell_type":"code",
   "source":[
    "a = int(input())\n",
    "b = int(input())\n",
    "\n",
    "print(a, b)\n",
    "        \n",
    "a, b = b, a\n",
    "print(a, b)\n",
    "        "
   ],
   "execution_count":1,
   "outputs":[
    {
     "name":"stdout",
     "text":[
      " 2\n",
      " 3\n",
      "2 3\n",
      "3 2\n"
     ],
     "output_type":"stream"
    }
   ],
   "metadata":{
    "datalore":{
     "type":"CODE",
     "hide_input_from_viewers":false,
     "hide_output_from_viewers":false
    }
   }
  },
  {
   "cell_type":"code",
   "source":[
    "a = int(input())\n",
    "b = int(input())\n",
    "\n",
    "print(a, b)\n",
    "a = b + a\n",
    "b = a - b\n",
    "a = a - b\n",
    "\n",
    "print(a, b)"
   ],
   "execution_count":2,
   "outputs":[
    {
     "name":"stdout",
     "text":[
      " 2\n",
      " 3\n",
      "2 3\n",
      "3 2\n"
     ],
     "output_type":"stream"
    }
   ],
   "metadata":{
    "datalore":{
     "type":"CODE",
     "hide_input_from_viewers":false,
     "hide_output_from_viewers":false
    }
   }
  },
  {
   "cell_type":"code",
   "source":[
    "a = int(input())\n",
    "\n",
    "b = a % 10\n",
    "c = a \/\/ 100\n",
    "d = a % 100\n",
    "e = d \/\/ 10\n",
    "print(b)\n",
    "print(c)\n",
    "print(e)\n",
    "\n",
    "a1 = b + c + e\n",
    "a2 = b * c * e\n",
    "\n",
    "print(a1)\n",
    "print(a2)"
   ],
   "execution_count":44,
   "outputs":[
    {
     "name":"stdout",
     "text":[
      " 968\n",
      "8\n",
      "9\n",
      "6\n",
      "23\n",
      "432\n"
     ],
     "output_type":"stream"
    }
   ],
   "metadata":{
    "datalore":{
     "type":"CODE",
     "hide_input_from_viewers":false,
     "hide_output_from_viewers":false
    }
   }
  },
  {
   "cell_type":"code",
   "source":[
    "import math\n",
    "\n",
    "a = int(input())\n",
    "b = int(input())\n",
    "\n",
    "c = a**2 + b**2\n",
    "print(math.sqrt(c))"
   ],
   "execution_count":49,
   "outputs":[
    {
     "name":"stdout",
     "text":[
      " 3\n",
      " 4\n",
      "5.0\n"
     ],
     "output_type":"stream"
    }
   ],
   "metadata":{
    "datalore":{
     "type":"CODE",
     "hide_input_from_viewers":false,
     "hide_output_from_viewers":false
    }
   }
  },
  {
   "cell_type":"code",
   "source":[
    "a = input()\n",
    "b = input()\n",
    "\n",
    "print(ord(a))\n",
    "print(ord(b))\n",
    "c = abs((ord(b) - ord(a))) - 1\n",
    "\n",
    "print(c)"
   ],
   "execution_count":2,
   "outputs":[
    {
     "name":"stdout",
     "text":[
      " w\n",
      " g\n",
      "119\n",
      "103\n",
      "15\n"
     ],
     "output_type":"stream"
    }
   ],
   "metadata":{
    "datalore":{
     "type":"CODE",
     "hide_input_from_viewers":false,
     "hide_output_from_viewers":false
    }
   }
  }
 ],
 "metadata":{
  "datalore":{
   "version":1,
   "computation_mode":"JUPYTER",
   "package_manager":"pip",
   "base_environment":"default",
   "packages":[
    
   ]
  }
 },
 "nbformat":4,
 "nbformat_minor":4
}