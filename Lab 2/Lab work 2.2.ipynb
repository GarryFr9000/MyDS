{
 "cells": [
  {
   "cell_type": "markdown",
   "source": [
    "___\n",
    "\n",
    "<a href='https://mainacademy.ua/'> <img src='https://mainacademy.ua/wp-content/uploads/2019/03/logo-main.png' alt = 'Хмм, щось з інтернетом'/></a>\n",
    "___\n",
    "\n",
    "# Module 2: Basic Python"
   ],
   "attachments": {},
   "metadata": {
    "datalore": {
     "type": "MD",
     "hide_input_from_viewers": false,
     "hide_output_from_viewers": false
    },
    "pycharm": {
     "name": "#%% md\n"
    }
   }
  },
  {
   "cell_type": "markdown",
   "source": [
    "## Lab work 2.2\n"
   ],
   "attachments": {},
   "metadata": {
    "datalore": {
     "type": "MD",
     "hide_input_from_viewers": false,
     "hide_output_from_viewers": false
    },
    "pycharm": {
     "name": "#%% md\n"
    }
   }
  },
  {
   "cell_type": "markdown",
   "source": [
    "#### Мета: \n",
    "\n",
    "* навчитися працювати із основними інструкціями Python;\n",
    "* ознайомитися із базовими алгоритмами;"
   ],
   "attachments": {},
   "metadata": {
    "datalore": {
     "type": "MD",
     "hide_input_from_viewers": false,
     "hide_output_from_viewers": false
    },
    "pycharm": {
     "name": "#%% md\n"
    }
   }
  },
  {
   "cell_type": "markdown",
   "source": [
    "### Завдання 1"
   ],
   "attachments": {},
   "metadata": {
    "datalore": {
     "type": "MD",
     "hide_input_from_viewers": false,
     "hide_output_from_viewers": false
    },
    "pycharm": {
     "name": "#%% md\n"
    }
   }
  },
  {
   "cell_type": "markdown",
   "source": [
    "Для трьох введених натуральних чисел (користувач вводить числа через пробіл) знайдіть мінімальне та максимальне"
   ],
   "attachments": {},
   "metadata": {
    "datalore": {
     "type": "MD",
     "hide_input_from_viewers": false,
     "hide_output_from_viewers": false
    },
    "pycharm": {
     "name": "#%% md\n"
    }
   }
  },
  {
   "cell_type": "code",
   "source": [
    "numbers = input()\n",
    "\n",
    "numbers = input()\n",
    "\n",
    "listSymbols = numbers.split(\" \")\n",
    "listNumbers = []\n",
    "for i in listSymbols:\n",
    "    listNumbers.append(int(i))    \n",
    "print(\"min = \" + str(min(listNumbers)))\n",
    "print(\"max = \" + str(max(listNumbers)))\n",
    "'''\n",
    "numbers = input()\n",
    "\n",
    "listSymbols = numbers.split(\" \")\n",
    "listNumbers = [int(i) for i in numbers.split(\" \")]\n",
    "\n",
    "max1 = 0\n",
    "for j in listNumbers:\n",
    "    if j > max1:\n",
    "        max1 = j\n",
    "print(\"max = \" + str(max1)) \n",
    "\n",
    "min1 = listNumbers[0]\n",
    "for j in listNumbers:\n",
    "    if j < min1:\n",
    "        min1 = j\n",
    "print(\"min = \" + str(min1))"
   ],
   "execution_count": null,
   "outputs": [],
   "metadata": {
    "datalore": {
     "type": "CODE",
     "hide_input_from_viewers": false,
     "hide_output_from_viewers": false
    },
    "pycharm": {
     "name": "#%%\n"
    }
   }
  },
  {
   "cell_type": "markdown",
   "source": [
    "### Завдання 2"
   ],
   "attachments": {},
   "metadata": {
    "datalore": {
     "type": "MD",
     "hide_input_from_viewers": false,
     "hide_output_from_viewers": false
    },
    "pycharm": {
     "name": "#%% md\n"
    }
   }
  },
  {
   "cell_type": "markdown",
   "source": [
    "Програма приймає на вхід два параметри: стать спортсмена(`sex = (f, m)`) та вік спортсмена(`age = [0,100]`).  Спортсмен-дівчина може брати участь у змаганні, якщо її вік більший 18, спортсмен-хлопець - якщо вік більший 16\n",
    "\n",
    "Якщо введеніть не коректні дані, виведіть повідомлення про помилку"
   ],
   "attachments": {},
   "metadata": {
    "datalore": {
     "type": "MD",
     "hide_input_from_viewers": false,
     "hide_output_from_viewers": false
    },
    "pycharm": {
     "name": "#%% md\n"
    }
   }
  },
  {
   "cell_type": "code",
   "source": [
    "sex = input()\n",
    "age = float(input())\n",
    "\n",
    "sex = input()\n",
    "age = float(input())\n",
    "\n",
    "if sex == 'f':\n",
    "   if age <= 18 :\n",
    "        print (\"Жінки приймають участь після 18 років\")\n",
    "elif sex == 'm':\n",
    "    if age <= 16 :\n",
    "        print (\"Чоловіки приймають участь після 16 років\")\n",
    "else:\n",
    "        print (\"Стать повинна бути f або m\")     "
   ],
   "execution_count": null,
   "outputs": [],
   "metadata": {
    "datalore": {
     "type": "CODE",
     "hide_input_from_viewers": false,
     "hide_output_from_viewers": false
    },
    "pycharm": {
     "name": "#%%\n"
    }
   }
  },
  {
   "cell_type": "markdown",
   "source": [
    "### Завдання 3"
   ],
   "attachments": {},
   "metadata": {
    "datalore": {
     "type": "MD",
     "hide_input_from_viewers": false,
     "hide_output_from_viewers": false
    },
    "pycharm": {
     "name": "#%% md\n"
    }
   }
  },
  {
   "cell_type": "markdown",
   "source": [
    "Для введеного натурального числа побудуйте драбинку. \n",
    "\n",
    "Наприклад, якщо N = 5, драбинка буде мати вигляд:\n",
    "    \n",
    "&\n",
    "\n",
    "&&\n",
    "\n",
    "&&&\n",
    "\n",
    "&&&&\n",
    "\n",
    "&&&&&"
   ],
   "attachments": {},
   "metadata": {
    "datalore": {
     "type": "MD",
     "hide_input_from_viewers": false,
     "hide_output_from_viewers": false
    },
    "pycharm": {
     "name": "#%% md\n"
    }
   }
  },
  {
   "cell_type": "code",
   "source": [
    "\n",
    "\n",
    "N = int(input())\n",
    "S = \"&\"\n",
    "\n",
    "for i in range(N):\n",
    "    print(S)\n",
    "    S = S + \"&\"\n"
   ],
   "execution_count": 5,
   "outputs": [],
   "metadata": {
    "datalore": {
     "type": "CODE",
     "hide_input_from_viewers": false,
     "hide_output_from_viewers": false
    },
    "pycharm": {
     "name": "#%%\n"
    }
   }
  },
  {
   "cell_type": "markdown",
   "source": [
    "### Завдання 4"
   ],
   "attachments": {},
   "metadata": {
    "datalore": {
     "type": "MD",
     "hide_input_from_viewers": false,
     "hide_output_from_viewers": false
    },
    "pycharm": {
     "name": "#%% md\n"
    }
   }
  },
  {
   "cell_type": "markdown",
   "source": [
    "Із заданого речення виведіть кожне слово і його довжину"
   ],
   "attachments": {},
   "metadata": {
    "datalore": {
     "type": "MD",
     "hide_input_from_viewers": false,
     "hide_output_from_viewers": false
    },
    "pycharm": {
     "name": "#%% md\n"
    }
   }
  },
  {
   "cell_type": "code",
   "source": [
    "sentence = 'My favourite tutor in academy is Ihor'\n",
    "\n",
    "wordList = [print(word, len(word)) for word in sentence.split(\" \")]\n"
   ],
   "execution_count": 1,
   "outputs": [],
   "metadata": {
    "datalore": {
     "type": "CODE",
     "hide_input_from_viewers": false,
     "hide_output_from_viewers": false
    },
    "pycharm": {
     "name": "#%%\n"
    }
   }
  },
  {
   "cell_type": "markdown",
   "source": [
    "### Завдання 5"
   ],
   "attachments": {},
   "metadata": {
    "datalore": {
     "type": "MD",
     "hide_input_from_viewers": false,
     "hide_output_from_viewers": false
    },
    "pycharm": {
     "name": "#%% md\n"
    }
   }
  },
  {
   "cell_type": "markdown",
   "source": [
    "Для заданого тексту реалізуйте:\n",
    "* Знайдіть кількість слів\n",
    "* Знайдіть кількість унікальних слів\n",
    "* Своірть словник, де ключе буде слово із тексту, значенням - частота зустрічання в тексті\n",
    "* Виведіть топ-3 слів, що найчастіше зустрічаються\n",
    "\n",
    "Вважаємо, що слово це стрічка з трьох і більше букв, очищена від знаків пунктуації"
   ],
   "attachments": {},
   "metadata": {
    "datalore": {
     "type": "MD",
     "hide_input_from_viewers": false,
     "hide_output_from_viewers": false
    },
    "pycharm": {
     "name": "#%% md\n"
    }
   }
  },
  {
   "cell_type": "code",
   "source": [
    "text = \"\"\"До чого ж гарно і весело було в нашому горóді! Ото як вийти з сіней та подивись навколо — геть-чисто все зелене та буйне. А сад було як зацвіте весною! А що робилось на початку літа — огірки цвітуть, гарбузи цвітуть, картопля цвіте. Цвіте малина, смородина, тютюн, квасоля. А соняшника, а маку, буряків, лободи, укропу, моркви! Чого тільки не насадить наша невгамовна мати.\n",
    "\n",
    "Нічого в світі так я не люблю, як саджати що-небудь у землю, щоб проізростало. Коли вилізає з землі всяка рослиночка, ото мені радість,— любила проказувати вона.\n",
    "\n",
    "Город до того переповнявсь рослинами, що десь серед літа вони вже не вміщалися в ньому. Вони лізли одна на одну, переплітались, душились, дерлися на хлів, на стріху, повзли на тин, а гарбузи звисали з тину прямо на вулицю.\n",
    "\n",
    "А малини — красної, білої! А вишень, а груш солодких, було. як наїсися,— цілий день живіт як бубон.\n",
    "\n",
    "І росло ще, пригадую, багато тютюну, в якому ми, маленькі, ходили, мов у лісі, в якому пізнали перші мозолі на дитячих руках.\n",
    "\n",
    "А вздовж тину, за старою повіткою, росли великі кущі смородини, бузини і ще якихось невідомих рослин. Там неслися кури нишком од матері і різне дрібне птаство. Туди ми рідко лазили. Там було темно навіть удень, і ми боялись гадюки. Хто з нас у дитинстві не боявся гадюки, так за все життя й не побачивши її ніде?\n",
    "\n",
    "Коло хати, що стояла в саду, цвіли квіти, а за хатою, проти сінешніх дверей, коло вишень,— поросла полином стара погребня з одкритою лядою, звідки завжди пахло цвіллю. Там, у льоху, в присмерку плигали жаби. Напевно, там водилися й гадюки.\n",
    "\n",
    "На погребні любив спати дід.\n",
    "\n",
    "У нас був дід дуже схожий на бога. Коли я молився богу, я завжди бачив на покуті портрет діда в старих срібнофольгових шатах, а сам дід лежав на печі і тихо кашляв, слухаючи своїх молитов.\n",
    "\n",
    "У неділю перед богами горіла маленька синенька лампадка, в яку завжди набиралось повно мух. Образ святого Миколая також був схожий на діда, особливо коли дід часом підстригав собі бороду і випивав перед обідом чарку горілки з перцем, і мати не лаялась. Святий Федосій більш скидався на батька. Федосію я не молився, в нього була ще темна борода, а в руці гирлига, одягнена чомусь у білу хустку. А от бог, схожий на діда, той тримав в одній руці круглу сільничку, а трьома пýчками другої неначе збирався взяти зубок часнику\n",
    "Звали нашого діда, як я вже потім довідавсь, Семеном. Він був високий і худий, і чоло в нього високе, хвилясте довге волосся сиве, а борода біла. І була в нього велика грижа ще з молодих чумацьких літ. Пахнув дід теплою землею і трохи млином. Він був письменний по-церковному і в неділю любив урочисто читати псалтир. Ні дід, ні ми не розуміли прочитаного, і це завжди хвилювало нас, як дивна таємниця, що надавала прочитаному особливого, небуденного смислу.\n",
    "\n",
    "Мати ненавиділа діда і вважала його за чорнокнижника. Ми не вірили матері і захищали діда од її нападів, бо псалтир всередині був не чорний, а білий, а товста шкіряна палітурка — коричнева, як гречаний мед чи стара халява. Зрештою, мати крадькома таки знищила псалтир. Вона спалила його в печі по одному листочку, боячись палити зразу весь, щоб він часом не вибухнув і не розніс печі.\n",
    "\n",
    "Любив дід гарну бесіду й добре слово. Часом по дорозі на луг, коли хто питав у нього дорогу на Борзну чи на Батурин, він довго стояв посеред шляху і, махаючи пужалном, гукав услід подорожньому:\n",
    "\n",
    "— Прямо, та й прямо, та й прямо, та й нікуди ж не звертайте!.. Добра людина поїхала, дай їй бог здоров'я,— зітхав він лагідно, коли подорожній нарешті зникав у кущах.\n",
    "\n",
    "— А хто вона, діду, людина ота? Звідки вона?\n",
    "\n",
    "— А бог її знає, хіба я знаю... Ну, чого стоїш як укопаний? — звертався дід до коня, сідаючи на воза.— Но, трогай-бо, ну...\n",
    "\n",
    "Він був наш добрий дух лугу і риби. Гриби й ягоди збирав він у лісі краще за нас усіх і розмовляв з кіньми, з телятами, з травами, з старою грушею і дубом — з усім живим, що росло і рухалось навколо.\n",
    "Більш за все на світі любив дід сонце. Він прожив під сонцем коло ста літ, ніколи не ховаючись у холодок. Так під сонцем на погребні, коло яблуні, він і помер, коли прийшов його час.\n",
    "\n",
    "Дід любив кашляти. Кашляв він часом так довго й гучно, що скільки ми не старалися, ніхто не міг його як слід передражнити. Його кашель чув увесь куток. Старі люди по дідовому кашлю вгадували навіть погоду.\"\"\"\n",
    "\n",
    "\n",
    "\n",
    "\n",
    "textWithoutPunct1 = text.lower().replace('\\n',' ') # Видаляємо розриви рядків та приводимо все до нижнього регістру\n",
    "\n",
    "textWithoutPunct = textWithoutPunct1.translate({ord(i): '' for i in ',!—./:?'}) # Видаляємо знаки пунктуації\n",
    "\n",
    "wordList2 = [word for word in textWithoutPunct.split(\" \") if len(word) >= 3] # Ділимо текст та складмо список слів\n",
    "\n",
    "print(\"Кількість слів - \" + str(len(wordList2))) # Підраховуємо кількість слів\n",
    "\n",
    "wordCounts = {}\n",
    "\n",
    "for word in wordList2:\n",
    "    try:\n",
    "        wordCounts[word] += 1\n",
    "    except KeyError:\n",
    "        wordCounts[word] = 1\n",
    "print(\"Кількість унікальних слів - \" + str(len(wordCounts))) #Кількість унікальних слів\n",
    "\n",
    "#for keys,values in wordCounts.items():\n",
    "#    print(keys, values)\n",
    "           \n",
    "# Сортуємо за значенням\n",
    "\"\"\"sortedWordCounts = {}\n",
    "sortedKeys = sorted(wordCounts, key=wordCounts.get)\n",
    "print(sortedKeys)\n",
    "\n",
    "for i in sortedKeys:\n",
    "    sortedWordCounts[i] = wordCounts[i]\"\"\"\n",
    "\n",
    "sortedWordCounts = sorted(wordCounts.items(),key = lambda x: x[1], reverse=True) # Сортуємо а значенням за допопмогою sorted\n",
    "# Виводимо перші три\n",
    "print(sortedWordCounts[0])\n",
    "print(sortedWordCounts[1])\n",
    "print(sortedWordCounts[2])\n",
    "\n",
    "# Виводимо перші три\n",
    "j = 0\n",
    "for i in sortedWordCounts:\n",
    "    print(i)\n",
    "    j += 1\n",
    "    if j > 2:\n",
    "        break\n"
   ],
   "execution_count": 11,
   "outputs": [],
   "metadata": {
    "datalore": {
     "type": "CODE",
     "hide_input_from_viewers": false,
     "hide_output_from_viewers": false
    },
    "pycharm": {
     "name": "#%%\n"
    }
   }
  },
  {
   "cell_type": "markdown",
   "source": [
    "### Завдання 6 "
   ],
   "attachments": {},
   "metadata": {
    "datalore": {
     "type": "MD",
     "hide_input_from_viewers": false,
     "hide_output_from_viewers": false
    },
    "pycharm": {
     "name": "#%% md\n"
    }
   }
  },
  {
   "cell_type": "markdown",
   "source": [
    "Напишіть функції, що:\n",
    "* рохраховує мінімальне та максимальне значення\n",
    "* середнє значення послідовності\n",
    "* медіану послідовності\n",
    "* частоту кожної цифри в послідовності\n",
    "* середнє квадратичне відхилення\n",
    "\n",
    "Послідовність чисел ганеруємо рандомно"
   ],
   "attachments": {},
   "metadata": {
    "datalore": {
     "type": "MD",
     "hide_input_from_viewers": false,
     "hide_output_from_viewers": false
    },
    "pycharm": {
     "name": "#%% md\n"
    }
   }
  },
  {
   "cell_type": "code",
   "source": [
    "import random, math\n",
    "\n",
    "#генеруэмо тисячу чисел в діапазоні від 0 до 10\n",
    "list_with_random_numbers = [random.randint(0,10) for i in range(1000)]\n",
    "\n",
    "def minMax (list_with_random):\n",
    "    print(\"max - \" + str(max(list_with_random_numbers)))\n",
    "    print(\"min - \" + str(min(list_with_random_numbers)))\n",
    "    \n",
    "\n",
    "def meanValue (list_with_random):\n",
    "    print(\"mean value - \" + str((sum(list_with_random_numbers) / len(list_with_random_numbers))))\n",
    "\n",
    "def median (list_with_random):\n",
    "    sortedList = sorted(list_with_random_numbers)\n",
    "    print(\"Median - \" + str((sortedList[int(len(sortedList)/2)] + sortedList[int(len(sortedList)/2) + 1]) /2))\n",
    "\n",
    "\n",
    "def frequency(list_with_random):\n",
    "    dictFrequency = {}\n",
    "    for i in list_with_random_numbers:\n",
    "        try:\n",
    "            dictFrequency[i] += 1\n",
    "        except KeyError:\n",
    "            dictFrequency[i] = 1\n",
    "    print(dictFrequency)\n",
    "\n",
    "\n",
    "def st_dev (list_with_random):\n",
    "    mean = sum(sortedList) / len(sortedList)\n",
    "    var = sum((l-mean)**2 for l in sortedList) / len(sortedList)\n",
    "    st_dev = math.sqrt(var)\n",
    "    print(\"Standard deviation: \" + str(st_dev))\n",
    "\n",
    "minMax(list_with_random_numbers)\n",
    "meanValue(list_with_random_numbers)\n",
    "median(list_with_random_numbers)   \n",
    "frequency(list_with_random_numbers)\n",
    "st_dev(list_with_random_numbers)"
   ],
   "execution_count": 9,
   "outputs": [
    {
     "name": "stdout",
     "text": [
      "max - 10\n",
      "min - 0\n",
      "mean value - 5.038\n",
      "Median - 5.0\n",
      "{8: 93, 6: 111, 4: 93, 0: 80, 10: 86, 5: 104, 2: 85, 1: 89, 3: 91, 7: 84, 9: 84}\n",
      "Standard deviation: 3.1744478260006033\n"
     ],
     "output_type": "stream"
    }
   ],
   "metadata": {
    "datalore": {
     "type": "CODE",
     "hide_input_from_viewers": false,
     "hide_output_from_viewers": false
    },
    "pycharm": {
     "name": "#%%\n"
    }
   }
  }
 ],
 "metadata": {
  "datalore": {
   "version": 1,
   "computation_mode": "JUPYTER",
   "package_manager": "pip",
   "base_environment": "default",
   "packages": []
  }
 },
 "nbformat": 4,
 "nbformat_minor": 4
}